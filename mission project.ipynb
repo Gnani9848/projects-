{
 "cells": [
  {
   "cell_type": "markdown",
   "id": "3a82bcdd",
   "metadata": {},
   "source": [
    "# importing libraries"
   ]
  },
  {
   "cell_type": "code",
   "execution_count": 1,
   "id": "aff94809",
   "metadata": {},
   "outputs": [
    {
     "name": "stderr",
     "output_type": "stream",
     "text": [
      "C:\\Users\\MANNAMGNANESHWAR\\anaconda3\\lib\\site-packages\\scipy\\__init__.py:155: UserWarning: A NumPy version >=1.18.5 and <1.25.0 is required for this version of SciPy (detected version 1.26.1\n",
      "  warnings.warn(f\"A NumPy version >={np_minversion} and <{np_maxversion}\"\n"
     ]
    }
   ],
   "source": [
    "import pandas as pd\n",
    "import numpy as np\n",
    "import matplotlib.pyplot as plt\n",
    "import seaborn as sns\n",
    "import warnings\n",
    "warnings.filterwarnings(\"ignore\")"
   ]
  },
  {
   "cell_type": "markdown",
   "id": "96a680d7",
   "metadata": {},
   "source": [
    "# Reading DataSet (check format of Dataset like csv,xlsx...)"
   ]
  },
  {
   "cell_type": "code",
   "execution_count": 3,
   "id": "a553b317",
   "metadata": {},
   "outputs": [],
   "source": [
    "space=pd.read_csv('mission_launches.csv')"
   ]
  },
  {
   "cell_type": "markdown",
   "id": "b2f23698",
   "metadata": {},
   "source": [
    "# Viewing DataSet\n",
    "Check what are dependent and indepndent columns"
   ]
  },
  {
   "cell_type": "code",
   "execution_count": 4,
   "id": "ee3d600d",
   "metadata": {},
   "outputs": [
    {
     "data": {
      "text/html": [
       "<div>\n",
       "<style scoped>\n",
       "    .dataframe tbody tr th:only-of-type {\n",
       "        vertical-align: middle;\n",
       "    }\n",
       "\n",
       "    .dataframe tbody tr th {\n",
       "        vertical-align: top;\n",
       "    }\n",
       "\n",
       "    .dataframe thead th {\n",
       "        text-align: right;\n",
       "    }\n",
       "</style>\n",
       "<table border=\"1\" class=\"dataframe\">\n",
       "  <thead>\n",
       "    <tr style=\"text-align: right;\">\n",
       "      <th></th>\n",
       "      <th>Unnamed: 0.1</th>\n",
       "      <th>Unnamed: 0</th>\n",
       "      <th>Organisation</th>\n",
       "      <th>Location</th>\n",
       "      <th>Date</th>\n",
       "      <th>Detail</th>\n",
       "      <th>Rocket_Status</th>\n",
       "      <th>Price</th>\n",
       "      <th>Mission_Status</th>\n",
       "    </tr>\n",
       "  </thead>\n",
       "  <tbody>\n",
       "    <tr>\n",
       "      <th>0</th>\n",
       "      <td>0</td>\n",
       "      <td>0</td>\n",
       "      <td>SpaceX</td>\n",
       "      <td>LC-39A, Kennedy Space Center, Florida, USA</td>\n",
       "      <td>Fri Aug 07, 2020 05:12 UTC</td>\n",
       "      <td>Falcon 9 Block 5 | Starlink V1 L9 &amp; BlackSky</td>\n",
       "      <td>StatusActive</td>\n",
       "      <td>50.0</td>\n",
       "      <td>Success</td>\n",
       "    </tr>\n",
       "    <tr>\n",
       "      <th>1</th>\n",
       "      <td>1</td>\n",
       "      <td>1</td>\n",
       "      <td>CASC</td>\n",
       "      <td>Site 9401 (SLS-2), Jiuquan Satellite Launch Ce...</td>\n",
       "      <td>Thu Aug 06, 2020 04:01 UTC</td>\n",
       "      <td>Long March 2D | Gaofen-9 04 &amp; Q-SAT</td>\n",
       "      <td>StatusActive</td>\n",
       "      <td>29.75</td>\n",
       "      <td>Success</td>\n",
       "    </tr>\n",
       "    <tr>\n",
       "      <th>2</th>\n",
       "      <td>2</td>\n",
       "      <td>2</td>\n",
       "      <td>SpaceX</td>\n",
       "      <td>Pad A, Boca Chica, Texas, USA</td>\n",
       "      <td>Tue Aug 04, 2020 23:57 UTC</td>\n",
       "      <td>Starship Prototype | 150 Meter Hop</td>\n",
       "      <td>StatusActive</td>\n",
       "      <td>NaN</td>\n",
       "      <td>Success</td>\n",
       "    </tr>\n",
       "    <tr>\n",
       "      <th>3</th>\n",
       "      <td>3</td>\n",
       "      <td>3</td>\n",
       "      <td>Roscosmos</td>\n",
       "      <td>Site 200/39, Baikonur Cosmodrome, Kazakhstan</td>\n",
       "      <td>Thu Jul 30, 2020 21:25 UTC</td>\n",
       "      <td>Proton-M/Briz-M | Ekspress-80 &amp; Ekspress-103</td>\n",
       "      <td>StatusActive</td>\n",
       "      <td>65.0</td>\n",
       "      <td>Success</td>\n",
       "    </tr>\n",
       "    <tr>\n",
       "      <th>4</th>\n",
       "      <td>4</td>\n",
       "      <td>4</td>\n",
       "      <td>ULA</td>\n",
       "      <td>SLC-41, Cape Canaveral AFS, Florida, USA</td>\n",
       "      <td>Thu Jul 30, 2020 11:50 UTC</td>\n",
       "      <td>Atlas V 541 | Perseverance</td>\n",
       "      <td>StatusActive</td>\n",
       "      <td>145.0</td>\n",
       "      <td>Success</td>\n",
       "    </tr>\n",
       "  </tbody>\n",
       "</table>\n",
       "</div>"
      ],
      "text/plain": [
       "   Unnamed: 0.1  Unnamed: 0 Organisation  \\\n",
       "0             0           0       SpaceX   \n",
       "1             1           1         CASC   \n",
       "2             2           2       SpaceX   \n",
       "3             3           3    Roscosmos   \n",
       "4             4           4          ULA   \n",
       "\n",
       "                                            Location  \\\n",
       "0         LC-39A, Kennedy Space Center, Florida, USA   \n",
       "1  Site 9401 (SLS-2), Jiuquan Satellite Launch Ce...   \n",
       "2                      Pad A, Boca Chica, Texas, USA   \n",
       "3       Site 200/39, Baikonur Cosmodrome, Kazakhstan   \n",
       "4           SLC-41, Cape Canaveral AFS, Florida, USA   \n",
       "\n",
       "                         Date                                        Detail  \\\n",
       "0  Fri Aug 07, 2020 05:12 UTC  Falcon 9 Block 5 | Starlink V1 L9 & BlackSky   \n",
       "1  Thu Aug 06, 2020 04:01 UTC           Long March 2D | Gaofen-9 04 & Q-SAT   \n",
       "2  Tue Aug 04, 2020 23:57 UTC            Starship Prototype | 150 Meter Hop   \n",
       "3  Thu Jul 30, 2020 21:25 UTC  Proton-M/Briz-M | Ekspress-80 & Ekspress-103   \n",
       "4  Thu Jul 30, 2020 11:50 UTC                    Atlas V 541 | Perseverance   \n",
       "\n",
       "  Rocket_Status  Price Mission_Status  \n",
       "0  StatusActive   50.0        Success  \n",
       "1  StatusActive  29.75        Success  \n",
       "2  StatusActive    NaN        Success  \n",
       "3  StatusActive   65.0        Success  \n",
       "4  StatusActive  145.0        Success  "
      ]
     },
     "execution_count": 4,
     "metadata": {},
     "output_type": "execute_result"
    }
   ],
   "source": [
    "space.head()\n"
   ]
  },
  {
   "cell_type": "markdown",
   "id": "5578caa2",
   "metadata": {},
   "source": [
    "# removing unwanted columns"
   ]
  },
  {
   "cell_type": "code",
   "execution_count": 5,
   "id": "6c7cb397",
   "metadata": {},
   "outputs": [],
   "source": [
    "space.drop('Unnamed: 0',axis=1,inplace=True)\n"
   ]
  },
  {
   "cell_type": "code",
   "execution_count": 7,
   "id": "8bcd514b",
   "metadata": {},
   "outputs": [
    {
     "data": {
      "text/html": [
       "<div>\n",
       "<style scoped>\n",
       "    .dataframe tbody tr th:only-of-type {\n",
       "        vertical-align: middle;\n",
       "    }\n",
       "\n",
       "    .dataframe tbody tr th {\n",
       "        vertical-align: top;\n",
       "    }\n",
       "\n",
       "    .dataframe thead th {\n",
       "        text-align: right;\n",
       "    }\n",
       "</style>\n",
       "<table border=\"1\" class=\"dataframe\">\n",
       "  <thead>\n",
       "    <tr style=\"text-align: right;\">\n",
       "      <th></th>\n",
       "      <th>Organisation</th>\n",
       "      <th>Location</th>\n",
       "      <th>Date</th>\n",
       "      <th>Detail</th>\n",
       "      <th>Rocket_Status</th>\n",
       "      <th>Price</th>\n",
       "      <th>Mission_Status</th>\n",
       "    </tr>\n",
       "  </thead>\n",
       "  <tbody>\n",
       "    <tr>\n",
       "      <th>0</th>\n",
       "      <td>SpaceX</td>\n",
       "      <td>LC-39A, Kennedy Space Center, Florida, USA</td>\n",
       "      <td>Fri Aug 07, 2020 05:12 UTC</td>\n",
       "      <td>Falcon 9 Block 5 | Starlink V1 L9 &amp; BlackSky</td>\n",
       "      <td>StatusActive</td>\n",
       "      <td>50.0</td>\n",
       "      <td>Success</td>\n",
       "    </tr>\n",
       "    <tr>\n",
       "      <th>1</th>\n",
       "      <td>CASC</td>\n",
       "      <td>Site 9401 (SLS-2), Jiuquan Satellite Launch Ce...</td>\n",
       "      <td>Thu Aug 06, 2020 04:01 UTC</td>\n",
       "      <td>Long March 2D | Gaofen-9 04 &amp; Q-SAT</td>\n",
       "      <td>StatusActive</td>\n",
       "      <td>29.75</td>\n",
       "      <td>Success</td>\n",
       "    </tr>\n",
       "    <tr>\n",
       "      <th>2</th>\n",
       "      <td>SpaceX</td>\n",
       "      <td>Pad A, Boca Chica, Texas, USA</td>\n",
       "      <td>Tue Aug 04, 2020 23:57 UTC</td>\n",
       "      <td>Starship Prototype | 150 Meter Hop</td>\n",
       "      <td>StatusActive</td>\n",
       "      <td>NaN</td>\n",
       "      <td>Success</td>\n",
       "    </tr>\n",
       "    <tr>\n",
       "      <th>3</th>\n",
       "      <td>Roscosmos</td>\n",
       "      <td>Site 200/39, Baikonur Cosmodrome, Kazakhstan</td>\n",
       "      <td>Thu Jul 30, 2020 21:25 UTC</td>\n",
       "      <td>Proton-M/Briz-M | Ekspress-80 &amp; Ekspress-103</td>\n",
       "      <td>StatusActive</td>\n",
       "      <td>65.0</td>\n",
       "      <td>Success</td>\n",
       "    </tr>\n",
       "    <tr>\n",
       "      <th>4</th>\n",
       "      <td>ULA</td>\n",
       "      <td>SLC-41, Cape Canaveral AFS, Florida, USA</td>\n",
       "      <td>Thu Jul 30, 2020 11:50 UTC</td>\n",
       "      <td>Atlas V 541 | Perseverance</td>\n",
       "      <td>StatusActive</td>\n",
       "      <td>145.0</td>\n",
       "      <td>Success</td>\n",
       "    </tr>\n",
       "  </tbody>\n",
       "</table>\n",
       "</div>"
      ],
      "text/plain": [
       "  Organisation                                           Location  \\\n",
       "0       SpaceX         LC-39A, Kennedy Space Center, Florida, USA   \n",
       "1         CASC  Site 9401 (SLS-2), Jiuquan Satellite Launch Ce...   \n",
       "2       SpaceX                      Pad A, Boca Chica, Texas, USA   \n",
       "3    Roscosmos       Site 200/39, Baikonur Cosmodrome, Kazakhstan   \n",
       "4          ULA           SLC-41, Cape Canaveral AFS, Florida, USA   \n",
       "\n",
       "                         Date                                        Detail  \\\n",
       "0  Fri Aug 07, 2020 05:12 UTC  Falcon 9 Block 5 | Starlink V1 L9 & BlackSky   \n",
       "1  Thu Aug 06, 2020 04:01 UTC           Long March 2D | Gaofen-9 04 & Q-SAT   \n",
       "2  Tue Aug 04, 2020 23:57 UTC            Starship Prototype | 150 Meter Hop   \n",
       "3  Thu Jul 30, 2020 21:25 UTC  Proton-M/Briz-M | Ekspress-80 & Ekspress-103   \n",
       "4  Thu Jul 30, 2020 11:50 UTC                    Atlas V 541 | Perseverance   \n",
       "\n",
       "  Rocket_Status  Price Mission_Status  \n",
       "0  StatusActive   50.0        Success  \n",
       "1  StatusActive  29.75        Success  \n",
       "2  StatusActive    NaN        Success  \n",
       "3  StatusActive   65.0        Success  \n",
       "4  StatusActive  145.0        Success  "
      ]
     },
     "execution_count": 7,
     "metadata": {},
     "output_type": "execute_result"
    }
   ],
   "source": [
    "space.drop(\"Unnamed: 0.1\",axis=1,inplace=True)\n",
    "space.head()"
   ]
  },
  {
   "cell_type": "markdown",
   "id": "fd4a2e0b",
   "metadata": {},
   "source": [
    "# Gives the inforamtion on data set.\n",
    "#1. How many columns are present.\n",
    "\n",
    "#2. What are the different datatypes that are present in different columns[Numerical or Categorical]\n",
    "\n",
    "#3. Check the number of entries present (this many rows are present in the dataset).\n",
    "\n",
    "#4. If there are any null values present in the data set."
   ]
  },
  {
   "cell_type": "code",
   "execution_count": 11,
   "id": "03c9bcab",
   "metadata": {},
   "outputs": [
    {
     "name": "stdout",
     "output_type": "stream",
     "text": [
      "<class 'pandas.core.frame.DataFrame'>\n",
      "RangeIndex: 4324 entries, 0 to 4323\n",
      "Data columns (total 7 columns):\n",
      " #   Column          Non-Null Count  Dtype \n",
      "---  ------          --------------  ----- \n",
      " 0   Organisation    4324 non-null   object\n",
      " 1   Location        4324 non-null   object\n",
      " 2   Date            4324 non-null   object\n",
      " 3   Detail          4324 non-null   object\n",
      " 4   Rocket_Status   4324 non-null   object\n",
      " 5   Price           964 non-null    object\n",
      " 6   Mission_Status  4324 non-null   object\n",
      "dtypes: object(7)\n",
      "memory usage: 236.6+ KB\n"
     ]
    }
   ],
   "source": [
    "space.info()"
   ]
  },
  {
   "cell_type": "markdown",
   "id": "7560908e",
   "metadata": {},
   "source": [
    "\n",
    "# 1. chechking the descriptive stats(5 pt summary i.e, min,max,25%,50%,75%)\n"
   ]
  },
  {
   "cell_type": "markdown",
   "id": "c15061aa",
   "metadata": {},
   "source": [
    "# 2. comparing mean and median (to check if there are any outliers present in a column)\n"
   ]
  },
  {
   "cell_type": "markdown",
   "id": "fec0f27c",
   "metadata": {},
   "source": [
    "# 3.if there are any categorical columns check the number of unique values present and check its top and frequency.¶"
   ]
  },
  {
   "cell_type": "code",
   "execution_count": 12,
   "id": "9f54f4e2",
   "metadata": {},
   "outputs": [
    {
     "data": {
      "text/html": [
       "<div>\n",
       "<style scoped>\n",
       "    .dataframe tbody tr th:only-of-type {\n",
       "        vertical-align: middle;\n",
       "    }\n",
       "\n",
       "    .dataframe tbody tr th {\n",
       "        vertical-align: top;\n",
       "    }\n",
       "\n",
       "    .dataframe thead th {\n",
       "        text-align: right;\n",
       "    }\n",
       "</style>\n",
       "<table border=\"1\" class=\"dataframe\">\n",
       "  <thead>\n",
       "    <tr style=\"text-align: right;\">\n",
       "      <th></th>\n",
       "      <th>Organisation</th>\n",
       "      <th>Location</th>\n",
       "      <th>Date</th>\n",
       "      <th>Detail</th>\n",
       "      <th>Rocket_Status</th>\n",
       "      <th>Price</th>\n",
       "      <th>Mission_Status</th>\n",
       "    </tr>\n",
       "  </thead>\n",
       "  <tbody>\n",
       "    <tr>\n",
       "      <th>count</th>\n",
       "      <td>4324</td>\n",
       "      <td>4324</td>\n",
       "      <td>4324</td>\n",
       "      <td>4324</td>\n",
       "      <td>4324</td>\n",
       "      <td>964</td>\n",
       "      <td>4324</td>\n",
       "    </tr>\n",
       "    <tr>\n",
       "      <th>unique</th>\n",
       "      <td>56</td>\n",
       "      <td>137</td>\n",
       "      <td>4319</td>\n",
       "      <td>4278</td>\n",
       "      <td>2</td>\n",
       "      <td>56</td>\n",
       "      <td>4</td>\n",
       "    </tr>\n",
       "    <tr>\n",
       "      <th>top</th>\n",
       "      <td>RVSN USSR</td>\n",
       "      <td>Site 31/6, Baikonur Cosmodrome, Kazakhstan</td>\n",
       "      <td>Wed Nov 05, 2008 00:15 UTC</td>\n",
       "      <td>Cosmos-3MRB (65MRB) | BOR-5 Shuttle</td>\n",
       "      <td>StatusRetired</td>\n",
       "      <td>450.0</td>\n",
       "      <td>Success</td>\n",
       "    </tr>\n",
       "    <tr>\n",
       "      <th>freq</th>\n",
       "      <td>1777</td>\n",
       "      <td>235</td>\n",
       "      <td>2</td>\n",
       "      <td>6</td>\n",
       "      <td>3534</td>\n",
       "      <td>136</td>\n",
       "      <td>3879</td>\n",
       "    </tr>\n",
       "  </tbody>\n",
       "</table>\n",
       "</div>"
      ],
      "text/plain": [
       "       Organisation                                    Location  \\\n",
       "count          4324                                        4324   \n",
       "unique           56                                         137   \n",
       "top       RVSN USSR  Site 31/6, Baikonur Cosmodrome, Kazakhstan   \n",
       "freq           1777                                         235   \n",
       "\n",
       "                              Date                               Detail  \\\n",
       "count                         4324                                 4324   \n",
       "unique                        4319                                 4278   \n",
       "top     Wed Nov 05, 2008 00:15 UTC  Cosmos-3MRB (65MRB) | BOR-5 Shuttle   \n",
       "freq                             2                                    6   \n",
       "\n",
       "        Rocket_Status  Price Mission_Status  \n",
       "count            4324    964           4324  \n",
       "unique              2     56              4  \n",
       "top     StatusRetired  450.0        Success  \n",
       "freq             3534    136           3879  "
      ]
     },
     "execution_count": 12,
     "metadata": {},
     "output_type": "execute_result"
    }
   ],
   "source": [
    "space.describe(include='all')"
   ]
  },
  {
   "cell_type": "code",
   "execution_count": 13,
   "id": "5892f425",
   "metadata": {},
   "outputs": [
    {
     "data": {
      "text/plain": [
       "(4324, 7)"
      ]
     },
     "execution_count": 13,
     "metadata": {},
     "output_type": "execute_result"
    }
   ],
   "source": [
    "space.shape"
   ]
  },
  {
   "cell_type": "code",
   "execution_count": 14,
   "id": "fb4cb48c",
   "metadata": {},
   "outputs": [
    {
     "data": {
      "text/plain": [
       "Organisation      object\n",
       "Location          object\n",
       "Date              object\n",
       "Detail            object\n",
       "Rocket_Status     object\n",
       "Price             object\n",
       "Mission_Status    object\n",
       "dtype: object"
      ]
     },
     "execution_count": 14,
     "metadata": {},
     "output_type": "execute_result"
    }
   ],
   "source": [
    "space.dtypes"
   ]
  },
  {
   "cell_type": "markdown",
   "id": "edb8b486",
   "metadata": {},
   "source": [
    "# spliting the date column to month and year"
   ]
  },
  {
   "cell_type": "code",
   "execution_count": 15,
   "id": "df0f10b7",
   "metadata": {},
   "outputs": [],
   "source": [
    "space['month']=space.Date.str.split(',').str[0]\n"
   ]
  },
  {
   "cell_type": "code",
   "execution_count": 16,
   "id": "66dc096e",
   "metadata": {},
   "outputs": [],
   "source": [
    "space['year']=space.Date.str.split(',').str[1]"
   ]
  },
  {
   "cell_type": "code",
   "execution_count": 17,
   "id": "7caf7e07",
   "metadata": {},
   "outputs": [
    {
     "data": {
      "text/html": [
       "<div>\n",
       "<style scoped>\n",
       "    .dataframe tbody tr th:only-of-type {\n",
       "        vertical-align: middle;\n",
       "    }\n",
       "\n",
       "    .dataframe tbody tr th {\n",
       "        vertical-align: top;\n",
       "    }\n",
       "\n",
       "    .dataframe thead th {\n",
       "        text-align: right;\n",
       "    }\n",
       "</style>\n",
       "<table border=\"1\" class=\"dataframe\">\n",
       "  <thead>\n",
       "    <tr style=\"text-align: right;\">\n",
       "      <th></th>\n",
       "      <th>Organisation</th>\n",
       "      <th>Location</th>\n",
       "      <th>Date</th>\n",
       "      <th>Detail</th>\n",
       "      <th>Rocket_Status</th>\n",
       "      <th>Price</th>\n",
       "      <th>Mission_Status</th>\n",
       "      <th>month</th>\n",
       "      <th>year</th>\n",
       "    </tr>\n",
       "  </thead>\n",
       "  <tbody>\n",
       "    <tr>\n",
       "      <th>0</th>\n",
       "      <td>SpaceX</td>\n",
       "      <td>LC-39A, Kennedy Space Center, Florida, USA</td>\n",
       "      <td>Fri Aug 07, 2020 05:12 UTC</td>\n",
       "      <td>Falcon 9 Block 5 | Starlink V1 L9 &amp; BlackSky</td>\n",
       "      <td>StatusActive</td>\n",
       "      <td>50.0</td>\n",
       "      <td>Success</td>\n",
       "      <td>Fri Aug 07</td>\n",
       "      <td>2020 05:12 UTC</td>\n",
       "    </tr>\n",
       "    <tr>\n",
       "      <th>1</th>\n",
       "      <td>CASC</td>\n",
       "      <td>Site 9401 (SLS-2), Jiuquan Satellite Launch Ce...</td>\n",
       "      <td>Thu Aug 06, 2020 04:01 UTC</td>\n",
       "      <td>Long March 2D | Gaofen-9 04 &amp; Q-SAT</td>\n",
       "      <td>StatusActive</td>\n",
       "      <td>29.75</td>\n",
       "      <td>Success</td>\n",
       "      <td>Thu Aug 06</td>\n",
       "      <td>2020 04:01 UTC</td>\n",
       "    </tr>\n",
       "    <tr>\n",
       "      <th>2</th>\n",
       "      <td>SpaceX</td>\n",
       "      <td>Pad A, Boca Chica, Texas, USA</td>\n",
       "      <td>Tue Aug 04, 2020 23:57 UTC</td>\n",
       "      <td>Starship Prototype | 150 Meter Hop</td>\n",
       "      <td>StatusActive</td>\n",
       "      <td>NaN</td>\n",
       "      <td>Success</td>\n",
       "      <td>Tue Aug 04</td>\n",
       "      <td>2020 23:57 UTC</td>\n",
       "    </tr>\n",
       "    <tr>\n",
       "      <th>3</th>\n",
       "      <td>Roscosmos</td>\n",
       "      <td>Site 200/39, Baikonur Cosmodrome, Kazakhstan</td>\n",
       "      <td>Thu Jul 30, 2020 21:25 UTC</td>\n",
       "      <td>Proton-M/Briz-M | Ekspress-80 &amp; Ekspress-103</td>\n",
       "      <td>StatusActive</td>\n",
       "      <td>65.0</td>\n",
       "      <td>Success</td>\n",
       "      <td>Thu Jul 30</td>\n",
       "      <td>2020 21:25 UTC</td>\n",
       "    </tr>\n",
       "    <tr>\n",
       "      <th>4</th>\n",
       "      <td>ULA</td>\n",
       "      <td>SLC-41, Cape Canaveral AFS, Florida, USA</td>\n",
       "      <td>Thu Jul 30, 2020 11:50 UTC</td>\n",
       "      <td>Atlas V 541 | Perseverance</td>\n",
       "      <td>StatusActive</td>\n",
       "      <td>145.0</td>\n",
       "      <td>Success</td>\n",
       "      <td>Thu Jul 30</td>\n",
       "      <td>2020 11:50 UTC</td>\n",
       "    </tr>\n",
       "  </tbody>\n",
       "</table>\n",
       "</div>"
      ],
      "text/plain": [
       "  Organisation                                           Location  \\\n",
       "0       SpaceX         LC-39A, Kennedy Space Center, Florida, USA   \n",
       "1         CASC  Site 9401 (SLS-2), Jiuquan Satellite Launch Ce...   \n",
       "2       SpaceX                      Pad A, Boca Chica, Texas, USA   \n",
       "3    Roscosmos       Site 200/39, Baikonur Cosmodrome, Kazakhstan   \n",
       "4          ULA           SLC-41, Cape Canaveral AFS, Florida, USA   \n",
       "\n",
       "                         Date                                        Detail  \\\n",
       "0  Fri Aug 07, 2020 05:12 UTC  Falcon 9 Block 5 | Starlink V1 L9 & BlackSky   \n",
       "1  Thu Aug 06, 2020 04:01 UTC           Long March 2D | Gaofen-9 04 & Q-SAT   \n",
       "2  Tue Aug 04, 2020 23:57 UTC            Starship Prototype | 150 Meter Hop   \n",
       "3  Thu Jul 30, 2020 21:25 UTC  Proton-M/Briz-M | Ekspress-80 & Ekspress-103   \n",
       "4  Thu Jul 30, 2020 11:50 UTC                    Atlas V 541 | Perseverance   \n",
       "\n",
       "  Rocket_Status  Price Mission_Status       month             year  \n",
       "0  StatusActive   50.0        Success  Fri Aug 07   2020 05:12 UTC  \n",
       "1  StatusActive  29.75        Success  Thu Aug 06   2020 04:01 UTC  \n",
       "2  StatusActive    NaN        Success  Tue Aug 04   2020 23:57 UTC  \n",
       "3  StatusActive   65.0        Success  Thu Jul 30   2020 21:25 UTC  \n",
       "4  StatusActive  145.0        Success  Thu Jul 30   2020 11:50 UTC  "
      ]
     },
     "execution_count": 17,
     "metadata": {},
     "output_type": "execute_result"
    }
   ],
   "source": [
    "space.head()"
   ]
  },
  {
   "cell_type": "markdown",
   "id": "1cc3e1e3",
   "metadata": {},
   "source": [
    "# extracting year from year and month ,day from month"
   ]
  },
  {
   "cell_type": "code",
   "execution_count": 18,
   "id": "cc264077",
   "metadata": {},
   "outputs": [],
   "source": [
    "space['year']=space.year.str[0:5]"
   ]
  },
  {
   "cell_type": "code",
   "execution_count": 19,
   "id": "854a5122",
   "metadata": {},
   "outputs": [],
   "source": [
    "space['day']=space.month.str[0:3]\n",
    "space['Month']=space.month.str[4:]"
   ]
  },
  {
   "cell_type": "markdown",
   "id": "b3cd1b83",
   "metadata": {},
   "source": [
    "# droping the date column"
   ]
  },
  {
   "cell_type": "code",
   "execution_count": 20,
   "id": "fd317043",
   "metadata": {},
   "outputs": [],
   "source": [
    "space.drop('Date',axis=1,inplace=True)"
   ]
  },
  {
   "cell_type": "markdown",
   "id": "e159f01d",
   "metadata": {},
   "source": [
    "# checking the null values in columns"
   ]
  },
  {
   "cell_type": "code",
   "execution_count": 21,
   "id": "61582f05",
   "metadata": {},
   "outputs": [
    {
     "data": {
      "text/plain": [
       "Organisation         0\n",
       "Location             0\n",
       "Detail               0\n",
       "Rocket_Status        0\n",
       "Price             3360\n",
       "Mission_Status       0\n",
       "month                0\n",
       "year                 0\n",
       "day                  0\n",
       "Month                0\n",
       "dtype: int64"
      ]
     },
     "execution_count": 21,
     "metadata": {},
     "output_type": "execute_result"
    }
   ],
   "source": [
    "space.isnull().sum()"
   ]
  },
  {
   "cell_type": "markdown",
   "id": "3290d095",
   "metadata": {},
   "source": [
    "# Either impute or drop null values\n"
   ]
  },
  {
   "cell_type": "markdown",
   "id": "f135d96b",
   "metadata": {},
   "source": [
    "# outliers should be imputed with mean\n"
   ]
  },
  {
   "cell_type": "markdown",
   "id": "f7ea6dd2",
   "metadata": {},
   "source": [
    "# Null values present in categorical column use mode for imputation\n"
   ]
  },
  {
   "cell_type": "markdown",
   "id": "955195a3",
   "metadata": {},
   "source": [
    "# If there are large percantage of missing values present in the column then drop it, else try to impute it."
   ]
  },
  {
   "cell_type": "code",
   "execution_count": 22,
   "id": "87d95e1b",
   "metadata": {},
   "outputs": [
    {
     "data": {
      "text/plain": [
       "0    450.0\n",
       "Name: Price, dtype: object"
      ]
     },
     "execution_count": 22,
     "metadata": {},
     "output_type": "execute_result"
    }
   ],
   "source": [
    "space.Price.mode()"
   ]
  },
  {
   "cell_type": "code",
   "execution_count": 23,
   "id": "46f12779",
   "metadata": {},
   "outputs": [],
   "source": [
    "space.Price.fillna(space.Price.mode()[0],inplace=True)"
   ]
  },
  {
   "cell_type": "code",
   "execution_count": 24,
   "id": "d5e1a325",
   "metadata": {},
   "outputs": [
    {
     "data": {
      "text/plain": [
       "Organisation      0\n",
       "Location          0\n",
       "Detail            0\n",
       "Rocket_Status     0\n",
       "Price             0\n",
       "Mission_Status    0\n",
       "month             0\n",
       "year              0\n",
       "day               0\n",
       "Month             0\n",
       "dtype: int64"
      ]
     },
     "execution_count": 24,
     "metadata": {},
     "output_type": "execute_result"
    }
   ],
   "source": [
    "space.isnull().sum()"
   ]
  },
  {
   "cell_type": "markdown",
   "id": "41a60a6e",
   "metadata": {},
   "source": [
    "#### groupby the year and organisation and finding max "
   ]
  },
  {
   "cell_type": "code",
   "execution_count": 25,
   "id": "714528cd",
   "metadata": {},
   "outputs": [
    {
     "data": {
      "text/plain": [
       "year\n",
       " 1957         US Navy\n",
       " 1958         US Navy\n",
       " 1959         US Navy\n",
       " 1960    US Air Force\n",
       " 1961    US Air Force\n",
       "             ...     \n",
       " 2016          VKS RF\n",
       " 2017          VKS RF\n",
       " 2018          VKS RF\n",
       " 2019         i-Space\n",
       " 2020    Virgin Orbit\n",
       "Name: Organisation, Length: 64, dtype: object"
      ]
     },
     "execution_count": 25,
     "metadata": {},
     "output_type": "execute_result"
    }
   ],
   "source": [
    "space.groupby('year')['Organisation'].max()\n"
   ]
  },
  {
   "cell_type": "markdown",
   "id": "4b7296a8",
   "metadata": {},
   "source": [
    "### extractring the center ,location,country, lunch pad for Location\n"
   ]
  },
  {
   "cell_type": "code",
   "execution_count": 26,
   "id": "9c2ad3ff",
   "metadata": {},
   "outputs": [],
   "source": [
    "space['center']=space.Location.str.split(',').str[1]"
   ]
  },
  {
   "cell_type": "code",
   "execution_count": 27,
   "id": "5183ba31",
   "metadata": {},
   "outputs": [
    {
     "data": {
      "text/html": [
       "<div>\n",
       "<style scoped>\n",
       "    .dataframe tbody tr th:only-of-type {\n",
       "        vertical-align: middle;\n",
       "    }\n",
       "\n",
       "    .dataframe tbody tr th {\n",
       "        vertical-align: top;\n",
       "    }\n",
       "\n",
       "    .dataframe thead th {\n",
       "        text-align: right;\n",
       "    }\n",
       "</style>\n",
       "<table border=\"1\" class=\"dataframe\">\n",
       "  <thead>\n",
       "    <tr style=\"text-align: right;\">\n",
       "      <th></th>\n",
       "      <th>Organisation</th>\n",
       "      <th>Location</th>\n",
       "      <th>Detail</th>\n",
       "      <th>Rocket_Status</th>\n",
       "      <th>Price</th>\n",
       "      <th>Mission_Status</th>\n",
       "      <th>month</th>\n",
       "      <th>year</th>\n",
       "      <th>day</th>\n",
       "      <th>Month</th>\n",
       "      <th>center</th>\n",
       "    </tr>\n",
       "  </thead>\n",
       "  <tbody>\n",
       "    <tr>\n",
       "      <th>0</th>\n",
       "      <td>SpaceX</td>\n",
       "      <td>LC-39A, Kennedy Space Center, Florida, USA</td>\n",
       "      <td>Falcon 9 Block 5 | Starlink V1 L9 &amp; BlackSky</td>\n",
       "      <td>StatusActive</td>\n",
       "      <td>50.0</td>\n",
       "      <td>Success</td>\n",
       "      <td>Fri Aug 07</td>\n",
       "      <td>2020</td>\n",
       "      <td>Fri</td>\n",
       "      <td>Aug 07</td>\n",
       "      <td>Kennedy Space Center</td>\n",
       "    </tr>\n",
       "    <tr>\n",
       "      <th>1</th>\n",
       "      <td>CASC</td>\n",
       "      <td>Site 9401 (SLS-2), Jiuquan Satellite Launch Ce...</td>\n",
       "      <td>Long March 2D | Gaofen-9 04 &amp; Q-SAT</td>\n",
       "      <td>StatusActive</td>\n",
       "      <td>29.75</td>\n",
       "      <td>Success</td>\n",
       "      <td>Thu Aug 06</td>\n",
       "      <td>2020</td>\n",
       "      <td>Thu</td>\n",
       "      <td>Aug 06</td>\n",
       "      <td>Jiuquan Satellite Launch Center</td>\n",
       "    </tr>\n",
       "    <tr>\n",
       "      <th>2</th>\n",
       "      <td>SpaceX</td>\n",
       "      <td>Pad A, Boca Chica, Texas, USA</td>\n",
       "      <td>Starship Prototype | 150 Meter Hop</td>\n",
       "      <td>StatusActive</td>\n",
       "      <td>450.0</td>\n",
       "      <td>Success</td>\n",
       "      <td>Tue Aug 04</td>\n",
       "      <td>2020</td>\n",
       "      <td>Tue</td>\n",
       "      <td>Aug 04</td>\n",
       "      <td>Boca Chica</td>\n",
       "    </tr>\n",
       "    <tr>\n",
       "      <th>3</th>\n",
       "      <td>Roscosmos</td>\n",
       "      <td>Site 200/39, Baikonur Cosmodrome, Kazakhstan</td>\n",
       "      <td>Proton-M/Briz-M | Ekspress-80 &amp; Ekspress-103</td>\n",
       "      <td>StatusActive</td>\n",
       "      <td>65.0</td>\n",
       "      <td>Success</td>\n",
       "      <td>Thu Jul 30</td>\n",
       "      <td>2020</td>\n",
       "      <td>Thu</td>\n",
       "      <td>Jul 30</td>\n",
       "      <td>Baikonur Cosmodrome</td>\n",
       "    </tr>\n",
       "    <tr>\n",
       "      <th>4</th>\n",
       "      <td>ULA</td>\n",
       "      <td>SLC-41, Cape Canaveral AFS, Florida, USA</td>\n",
       "      <td>Atlas V 541 | Perseverance</td>\n",
       "      <td>StatusActive</td>\n",
       "      <td>145.0</td>\n",
       "      <td>Success</td>\n",
       "      <td>Thu Jul 30</td>\n",
       "      <td>2020</td>\n",
       "      <td>Thu</td>\n",
       "      <td>Jul 30</td>\n",
       "      <td>Cape Canaveral AFS</td>\n",
       "    </tr>\n",
       "  </tbody>\n",
       "</table>\n",
       "</div>"
      ],
      "text/plain": [
       "  Organisation                                           Location  \\\n",
       "0       SpaceX         LC-39A, Kennedy Space Center, Florida, USA   \n",
       "1         CASC  Site 9401 (SLS-2), Jiuquan Satellite Launch Ce...   \n",
       "2       SpaceX                      Pad A, Boca Chica, Texas, USA   \n",
       "3    Roscosmos       Site 200/39, Baikonur Cosmodrome, Kazakhstan   \n",
       "4          ULA           SLC-41, Cape Canaveral AFS, Florida, USA   \n",
       "\n",
       "                                         Detail Rocket_Status  Price  \\\n",
       "0  Falcon 9 Block 5 | Starlink V1 L9 & BlackSky  StatusActive   50.0   \n",
       "1           Long March 2D | Gaofen-9 04 & Q-SAT  StatusActive  29.75   \n",
       "2            Starship Prototype | 150 Meter Hop  StatusActive  450.0   \n",
       "3  Proton-M/Briz-M | Ekspress-80 & Ekspress-103  StatusActive   65.0   \n",
       "4                    Atlas V 541 | Perseverance  StatusActive  145.0   \n",
       "\n",
       "  Mission_Status       month   year  day   Month  \\\n",
       "0        Success  Fri Aug 07   2020  Fri  Aug 07   \n",
       "1        Success  Thu Aug 06   2020  Thu  Aug 06   \n",
       "2        Success  Tue Aug 04   2020  Tue  Aug 04   \n",
       "3        Success  Thu Jul 30   2020  Thu  Jul 30   \n",
       "4        Success  Thu Jul 30   2020  Thu  Jul 30   \n",
       "\n",
       "                             center  \n",
       "0              Kennedy Space Center  \n",
       "1   Jiuquan Satellite Launch Center  \n",
       "2                        Boca Chica  \n",
       "3               Baikonur Cosmodrome  \n",
       "4                Cape Canaveral AFS  "
      ]
     },
     "execution_count": 27,
     "metadata": {},
     "output_type": "execute_result"
    }
   ],
   "source": [
    "space.head()"
   ]
  },
  {
   "cell_type": "code",
   "execution_count": 28,
   "id": "028ad6c7",
   "metadata": {},
   "outputs": [],
   "source": [
    "space['location']=space.Location.str.split(',').str[2]"
   ]
  },
  {
   "cell_type": "code",
   "execution_count": 29,
   "id": "b6cff1ad",
   "metadata": {},
   "outputs": [],
   "source": [
    "space['country']=space.Location.str.split(',').str[3]"
   ]
  },
  {
   "cell_type": "code",
   "execution_count": 30,
   "id": "d44f07d2",
   "metadata": {},
   "outputs": [],
   "source": [
    "space['launch pad']=space.Location.str.split(',').str[0]"
   ]
  },
  {
   "cell_type": "code",
   "execution_count": 31,
   "id": "98ce5a09",
   "metadata": {},
   "outputs": [],
   "source": [
    "space.drop('Location',axis=1,inplace=True)\n"
   ]
  },
  {
   "cell_type": "code",
   "execution_count": 32,
   "id": "b9aa69f2",
   "metadata": {},
   "outputs": [
    {
     "data": {
      "text/html": [
       "<div>\n",
       "<style scoped>\n",
       "    .dataframe tbody tr th:only-of-type {\n",
       "        vertical-align: middle;\n",
       "    }\n",
       "\n",
       "    .dataframe tbody tr th {\n",
       "        vertical-align: top;\n",
       "    }\n",
       "\n",
       "    .dataframe thead th {\n",
       "        text-align: right;\n",
       "    }\n",
       "</style>\n",
       "<table border=\"1\" class=\"dataframe\">\n",
       "  <thead>\n",
       "    <tr style=\"text-align: right;\">\n",
       "      <th></th>\n",
       "      <th>Organisation</th>\n",
       "      <th>Detail</th>\n",
       "      <th>Rocket_Status</th>\n",
       "      <th>Price</th>\n",
       "      <th>Mission_Status</th>\n",
       "      <th>month</th>\n",
       "      <th>year</th>\n",
       "      <th>day</th>\n",
       "      <th>Month</th>\n",
       "      <th>center</th>\n",
       "      <th>location</th>\n",
       "      <th>country</th>\n",
       "      <th>launch pad</th>\n",
       "    </tr>\n",
       "  </thead>\n",
       "  <tbody>\n",
       "    <tr>\n",
       "      <th>0</th>\n",
       "      <td>SpaceX</td>\n",
       "      <td>Falcon 9 Block 5 | Starlink V1 L9 &amp; BlackSky</td>\n",
       "      <td>StatusActive</td>\n",
       "      <td>50.0</td>\n",
       "      <td>Success</td>\n",
       "      <td>Fri Aug 07</td>\n",
       "      <td>2020</td>\n",
       "      <td>Fri</td>\n",
       "      <td>Aug 07</td>\n",
       "      <td>Kennedy Space Center</td>\n",
       "      <td>Florida</td>\n",
       "      <td>USA</td>\n",
       "      <td>LC-39A</td>\n",
       "    </tr>\n",
       "    <tr>\n",
       "      <th>1</th>\n",
       "      <td>CASC</td>\n",
       "      <td>Long March 2D | Gaofen-9 04 &amp; Q-SAT</td>\n",
       "      <td>StatusActive</td>\n",
       "      <td>29.75</td>\n",
       "      <td>Success</td>\n",
       "      <td>Thu Aug 06</td>\n",
       "      <td>2020</td>\n",
       "      <td>Thu</td>\n",
       "      <td>Aug 06</td>\n",
       "      <td>Jiuquan Satellite Launch Center</td>\n",
       "      <td>China</td>\n",
       "      <td>NaN</td>\n",
       "      <td>Site 9401 (SLS-2)</td>\n",
       "    </tr>\n",
       "    <tr>\n",
       "      <th>2</th>\n",
       "      <td>SpaceX</td>\n",
       "      <td>Starship Prototype | 150 Meter Hop</td>\n",
       "      <td>StatusActive</td>\n",
       "      <td>450.0</td>\n",
       "      <td>Success</td>\n",
       "      <td>Tue Aug 04</td>\n",
       "      <td>2020</td>\n",
       "      <td>Tue</td>\n",
       "      <td>Aug 04</td>\n",
       "      <td>Boca Chica</td>\n",
       "      <td>Texas</td>\n",
       "      <td>USA</td>\n",
       "      <td>Pad A</td>\n",
       "    </tr>\n",
       "    <tr>\n",
       "      <th>3</th>\n",
       "      <td>Roscosmos</td>\n",
       "      <td>Proton-M/Briz-M | Ekspress-80 &amp; Ekspress-103</td>\n",
       "      <td>StatusActive</td>\n",
       "      <td>65.0</td>\n",
       "      <td>Success</td>\n",
       "      <td>Thu Jul 30</td>\n",
       "      <td>2020</td>\n",
       "      <td>Thu</td>\n",
       "      <td>Jul 30</td>\n",
       "      <td>Baikonur Cosmodrome</td>\n",
       "      <td>Kazakhstan</td>\n",
       "      <td>NaN</td>\n",
       "      <td>Site 200/39</td>\n",
       "    </tr>\n",
       "    <tr>\n",
       "      <th>4</th>\n",
       "      <td>ULA</td>\n",
       "      <td>Atlas V 541 | Perseverance</td>\n",
       "      <td>StatusActive</td>\n",
       "      <td>145.0</td>\n",
       "      <td>Success</td>\n",
       "      <td>Thu Jul 30</td>\n",
       "      <td>2020</td>\n",
       "      <td>Thu</td>\n",
       "      <td>Jul 30</td>\n",
       "      <td>Cape Canaveral AFS</td>\n",
       "      <td>Florida</td>\n",
       "      <td>USA</td>\n",
       "      <td>SLC-41</td>\n",
       "    </tr>\n",
       "  </tbody>\n",
       "</table>\n",
       "</div>"
      ],
      "text/plain": [
       "  Organisation                                        Detail Rocket_Status  \\\n",
       "0       SpaceX  Falcon 9 Block 5 | Starlink V1 L9 & BlackSky  StatusActive   \n",
       "1         CASC           Long March 2D | Gaofen-9 04 & Q-SAT  StatusActive   \n",
       "2       SpaceX            Starship Prototype | 150 Meter Hop  StatusActive   \n",
       "3    Roscosmos  Proton-M/Briz-M | Ekspress-80 & Ekspress-103  StatusActive   \n",
       "4          ULA                    Atlas V 541 | Perseverance  StatusActive   \n",
       "\n",
       "   Price Mission_Status       month   year  day   Month  \\\n",
       "0   50.0        Success  Fri Aug 07   2020  Fri  Aug 07   \n",
       "1  29.75        Success  Thu Aug 06   2020  Thu  Aug 06   \n",
       "2  450.0        Success  Tue Aug 04   2020  Tue  Aug 04   \n",
       "3   65.0        Success  Thu Jul 30   2020  Thu  Jul 30   \n",
       "4  145.0        Success  Thu Jul 30   2020  Thu  Jul 30   \n",
       "\n",
       "                             center     location country         launch pad  \n",
       "0              Kennedy Space Center      Florida     USA             LC-39A  \n",
       "1   Jiuquan Satellite Launch Center        China     NaN  Site 9401 (SLS-2)  \n",
       "2                        Boca Chica        Texas     USA              Pad A  \n",
       "3               Baikonur Cosmodrome   Kazakhstan     NaN        Site 200/39  \n",
       "4                Cape Canaveral AFS      Florida     USA             SLC-41  "
      ]
     },
     "execution_count": 32,
     "metadata": {},
     "output_type": "execute_result"
    }
   ],
   "source": [
    "space.head()"
   ]
  },
  {
   "cell_type": "code",
   "execution_count": 33,
   "id": "d3a2719a",
   "metadata": {},
   "outputs": [
    {
     "data": {
      "text/html": [
       "<div>\n",
       "<style scoped>\n",
       "    .dataframe tbody tr th:only-of-type {\n",
       "        vertical-align: middle;\n",
       "    }\n",
       "\n",
       "    .dataframe tbody tr th {\n",
       "        vertical-align: top;\n",
       "    }\n",
       "\n",
       "    .dataframe thead th {\n",
       "        text-align: right;\n",
       "    }\n",
       "</style>\n",
       "<table border=\"1\" class=\"dataframe\">\n",
       "  <thead>\n",
       "    <tr style=\"text-align: right;\">\n",
       "      <th></th>\n",
       "      <th>Organisation</th>\n",
       "      <th>Detail</th>\n",
       "      <th>Rocket_Status</th>\n",
       "      <th>Price</th>\n",
       "      <th>Mission_Status</th>\n",
       "      <th>month</th>\n",
       "      <th>year</th>\n",
       "      <th>day</th>\n",
       "      <th>Month</th>\n",
       "      <th>center</th>\n",
       "      <th>location</th>\n",
       "      <th>country</th>\n",
       "      <th>launch pad</th>\n",
       "    </tr>\n",
       "  </thead>\n",
       "  <tbody>\n",
       "    <tr>\n",
       "      <th>0</th>\n",
       "      <td>SpaceX</td>\n",
       "      <td>Falcon 9 Block 5 | Starlink V1 L9 &amp; BlackSky</td>\n",
       "      <td>StatusActive</td>\n",
       "      <td>50.0</td>\n",
       "      <td>Success</td>\n",
       "      <td>Fri Aug 07</td>\n",
       "      <td>2020</td>\n",
       "      <td>Fri</td>\n",
       "      <td>Aug 07</td>\n",
       "      <td>Kennedy Space Center</td>\n",
       "      <td>Florida</td>\n",
       "      <td>USA</td>\n",
       "      <td>LC-39A</td>\n",
       "    </tr>\n",
       "    <tr>\n",
       "      <th>1</th>\n",
       "      <td>CASC</td>\n",
       "      <td>Long March 2D | Gaofen-9 04 &amp; Q-SAT</td>\n",
       "      <td>StatusActive</td>\n",
       "      <td>29.75</td>\n",
       "      <td>Success</td>\n",
       "      <td>Thu Aug 06</td>\n",
       "      <td>2020</td>\n",
       "      <td>Thu</td>\n",
       "      <td>Aug 06</td>\n",
       "      <td>Jiuquan Satellite Launch Center</td>\n",
       "      <td>China</td>\n",
       "      <td>NaN</td>\n",
       "      <td>Site 9401 (SLS-2)</td>\n",
       "    </tr>\n",
       "    <tr>\n",
       "      <th>2</th>\n",
       "      <td>SpaceX</td>\n",
       "      <td>Starship Prototype | 150 Meter Hop</td>\n",
       "      <td>StatusActive</td>\n",
       "      <td>450.0</td>\n",
       "      <td>Success</td>\n",
       "      <td>Tue Aug 04</td>\n",
       "      <td>2020</td>\n",
       "      <td>Tue</td>\n",
       "      <td>Aug 04</td>\n",
       "      <td>Boca Chica</td>\n",
       "      <td>Texas</td>\n",
       "      <td>USA</td>\n",
       "      <td>Pad A</td>\n",
       "    </tr>\n",
       "    <tr>\n",
       "      <th>3</th>\n",
       "      <td>Roscosmos</td>\n",
       "      <td>Proton-M/Briz-M | Ekspress-80 &amp; Ekspress-103</td>\n",
       "      <td>StatusActive</td>\n",
       "      <td>65.0</td>\n",
       "      <td>Success</td>\n",
       "      <td>Thu Jul 30</td>\n",
       "      <td>2020</td>\n",
       "      <td>Thu</td>\n",
       "      <td>Jul 30</td>\n",
       "      <td>Baikonur Cosmodrome</td>\n",
       "      <td>Kazakhstan</td>\n",
       "      <td>NaN</td>\n",
       "      <td>Site 200/39</td>\n",
       "    </tr>\n",
       "    <tr>\n",
       "      <th>4</th>\n",
       "      <td>ULA</td>\n",
       "      <td>Atlas V 541 | Perseverance</td>\n",
       "      <td>StatusActive</td>\n",
       "      <td>145.0</td>\n",
       "      <td>Success</td>\n",
       "      <td>Thu Jul 30</td>\n",
       "      <td>2020</td>\n",
       "      <td>Thu</td>\n",
       "      <td>Jul 30</td>\n",
       "      <td>Cape Canaveral AFS</td>\n",
       "      <td>Florida</td>\n",
       "      <td>USA</td>\n",
       "      <td>SLC-41</td>\n",
       "    </tr>\n",
       "    <tr>\n",
       "      <th>...</th>\n",
       "      <td>...</td>\n",
       "      <td>...</td>\n",
       "      <td>...</td>\n",
       "      <td>...</td>\n",
       "      <td>...</td>\n",
       "      <td>...</td>\n",
       "      <td>...</td>\n",
       "      <td>...</td>\n",
       "      <td>...</td>\n",
       "      <td>...</td>\n",
       "      <td>...</td>\n",
       "      <td>...</td>\n",
       "      <td>...</td>\n",
       "    </tr>\n",
       "    <tr>\n",
       "      <th>4319</th>\n",
       "      <td>US Navy</td>\n",
       "      <td>Vanguard | Vanguard TV3BU</td>\n",
       "      <td>StatusRetired</td>\n",
       "      <td>450.0</td>\n",
       "      <td>Failure</td>\n",
       "      <td>Wed Feb 05</td>\n",
       "      <td>1958</td>\n",
       "      <td>Wed</td>\n",
       "      <td>Feb 05</td>\n",
       "      <td>Cape Canaveral AFS</td>\n",
       "      <td>Florida</td>\n",
       "      <td>USA</td>\n",
       "      <td>LC-18A</td>\n",
       "    </tr>\n",
       "    <tr>\n",
       "      <th>4320</th>\n",
       "      <td>AMBA</td>\n",
       "      <td>Juno I | Explorer 1</td>\n",
       "      <td>StatusRetired</td>\n",
       "      <td>450.0</td>\n",
       "      <td>Success</td>\n",
       "      <td>Sat Feb 01</td>\n",
       "      <td>1958</td>\n",
       "      <td>Sat</td>\n",
       "      <td>Feb 01</td>\n",
       "      <td>Cape Canaveral AFS</td>\n",
       "      <td>Florida</td>\n",
       "      <td>USA</td>\n",
       "      <td>LC-26A</td>\n",
       "    </tr>\n",
       "    <tr>\n",
       "      <th>4321</th>\n",
       "      <td>US Navy</td>\n",
       "      <td>Vanguard | Vanguard TV3</td>\n",
       "      <td>StatusRetired</td>\n",
       "      <td>450.0</td>\n",
       "      <td>Failure</td>\n",
       "      <td>Fri Dec 06</td>\n",
       "      <td>1957</td>\n",
       "      <td>Fri</td>\n",
       "      <td>Dec 06</td>\n",
       "      <td>Cape Canaveral AFS</td>\n",
       "      <td>Florida</td>\n",
       "      <td>USA</td>\n",
       "      <td>LC-18A</td>\n",
       "    </tr>\n",
       "    <tr>\n",
       "      <th>4322</th>\n",
       "      <td>RVSN USSR</td>\n",
       "      <td>Sputnik 8K71PS | Sputnik-2</td>\n",
       "      <td>StatusRetired</td>\n",
       "      <td>450.0</td>\n",
       "      <td>Success</td>\n",
       "      <td>Sun Nov 03</td>\n",
       "      <td>1957</td>\n",
       "      <td>Sun</td>\n",
       "      <td>Nov 03</td>\n",
       "      <td>Baikonur Cosmodrome</td>\n",
       "      <td>Kazakhstan</td>\n",
       "      <td>NaN</td>\n",
       "      <td>Site 1/5</td>\n",
       "    </tr>\n",
       "    <tr>\n",
       "      <th>4323</th>\n",
       "      <td>RVSN USSR</td>\n",
       "      <td>Sputnik 8K71PS | Sputnik-1</td>\n",
       "      <td>StatusRetired</td>\n",
       "      <td>450.0</td>\n",
       "      <td>Success</td>\n",
       "      <td>Fri Oct 04</td>\n",
       "      <td>1957</td>\n",
       "      <td>Fri</td>\n",
       "      <td>Oct 04</td>\n",
       "      <td>Baikonur Cosmodrome</td>\n",
       "      <td>Kazakhstan</td>\n",
       "      <td>NaN</td>\n",
       "      <td>Site 1/5</td>\n",
       "    </tr>\n",
       "  </tbody>\n",
       "</table>\n",
       "<p>4324 rows × 13 columns</p>\n",
       "</div>"
      ],
      "text/plain": [
       "     Organisation                                        Detail  \\\n",
       "0          SpaceX  Falcon 9 Block 5 | Starlink V1 L9 & BlackSky   \n",
       "1            CASC           Long March 2D | Gaofen-9 04 & Q-SAT   \n",
       "2          SpaceX            Starship Prototype | 150 Meter Hop   \n",
       "3       Roscosmos  Proton-M/Briz-M | Ekspress-80 & Ekspress-103   \n",
       "4             ULA                    Atlas V 541 | Perseverance   \n",
       "...           ...                                           ...   \n",
       "4319      US Navy                     Vanguard | Vanguard TV3BU   \n",
       "4320         AMBA                           Juno I | Explorer 1   \n",
       "4321      US Navy                       Vanguard | Vanguard TV3   \n",
       "4322    RVSN USSR                    Sputnik 8K71PS | Sputnik-2   \n",
       "4323    RVSN USSR                    Sputnik 8K71PS | Sputnik-1   \n",
       "\n",
       "      Rocket_Status  Price Mission_Status       month   year  day   Month  \\\n",
       "0      StatusActive   50.0        Success  Fri Aug 07   2020  Fri  Aug 07   \n",
       "1      StatusActive  29.75        Success  Thu Aug 06   2020  Thu  Aug 06   \n",
       "2      StatusActive  450.0        Success  Tue Aug 04   2020  Tue  Aug 04   \n",
       "3      StatusActive   65.0        Success  Thu Jul 30   2020  Thu  Jul 30   \n",
       "4      StatusActive  145.0        Success  Thu Jul 30   2020  Thu  Jul 30   \n",
       "...             ...    ...            ...         ...    ...  ...     ...   \n",
       "4319  StatusRetired  450.0        Failure  Wed Feb 05   1958  Wed  Feb 05   \n",
       "4320  StatusRetired  450.0        Success  Sat Feb 01   1958  Sat  Feb 01   \n",
       "4321  StatusRetired  450.0        Failure  Fri Dec 06   1957  Fri  Dec 06   \n",
       "4322  StatusRetired  450.0        Success  Sun Nov 03   1957  Sun  Nov 03   \n",
       "4323  StatusRetired  450.0        Success  Fri Oct 04   1957  Fri  Oct 04   \n",
       "\n",
       "                                center     location country         launch pad  \n",
       "0                 Kennedy Space Center      Florida     USA             LC-39A  \n",
       "1      Jiuquan Satellite Launch Center        China     NaN  Site 9401 (SLS-2)  \n",
       "2                           Boca Chica        Texas     USA              Pad A  \n",
       "3                  Baikonur Cosmodrome   Kazakhstan     NaN        Site 200/39  \n",
       "4                   Cape Canaveral AFS      Florida     USA             SLC-41  \n",
       "...                                ...          ...     ...                ...  \n",
       "4319                Cape Canaveral AFS      Florida     USA             LC-18A  \n",
       "4320                Cape Canaveral AFS      Florida     USA             LC-26A  \n",
       "4321                Cape Canaveral AFS      Florida     USA             LC-18A  \n",
       "4322               Baikonur Cosmodrome   Kazakhstan     NaN           Site 1/5  \n",
       "4323               Baikonur Cosmodrome   Kazakhstan     NaN           Site 1/5  \n",
       "\n",
       "[4324 rows x 13 columns]"
      ]
     },
     "execution_count": 33,
     "metadata": {},
     "output_type": "execute_result"
    }
   ],
   "source": [
    "space"
   ]
  },
  {
   "cell_type": "code",
   "execution_count": 36,
   "id": "0fd52fd3",
   "metadata": {},
   "outputs": [
    {
     "data": {
      "text/plain": [
       "year   Organisation      Detail                             Rocket_Status  Price  Mission_Status   month       day  Month   center                         location     country  launch pad        \n",
       " 1957  US Navy           Vanguard | Vanguard TV3            StatusRetired  450.0  Failure          Fri Dec 06  Fri  Dec 06   Cape Canaveral AFS             Florida      USA     LC-18A                1\n",
       " 1958  AMBA              Juno I | Beacon 1                  StatusRetired  450.0  Failure          Thu Oct 23  Thu  Oct 23   Cape Canaveral AFS             Florida      USA     LC-5                  1\n",
       "       US Navy           NOTS-EV-1 Pilot II | Pilot-2 (D2)  StatusRetired  450.0  Failure          Tue Aug 12  Tue  Aug 12   Naval Air Station Point Mugu   California   USA     Douglas F4D Skyray    1\n",
       "                         Vanguard | Vanguard TV5            StatusRetired  450.0  Failure          Mon Apr 28  Mon  Apr 28   Cape Canaveral AFS             Florida      USA     LC-18A                1\n",
       "                         Vanguard | Vanguard TV3BU          StatusRetired  450.0  Failure          Wed Feb 05  Wed  Feb 05   Cape Canaveral AFS             Florida      USA     LC-18A                1\n",
       "                         Vanguard | Vanguard SLV-3          StatusRetired  450.0  Failure          Fri Sep 26  Fri  Sep 26   Cape Canaveral AFS             Florida      USA     LC-18A                1\n",
       "                         Vanguard | Vanguard SLV-2          StatusRetired  450.0  Failure          Thu Jun 26  Thu  Jun 26   Cape Canaveral AFS             Florida      USA     LC-18A                1\n",
       "                         Vanguard | Vanguard SLV-1          StatusRetired  450.0  Failure          Wed May 28  Wed  May 28   Cape Canaveral AFS             Florida      USA     LC-18A                1\n",
       "                         Vanguard | Vanguard 1              StatusRetired  450.0  Success          Mon Mar 17  Mon  Mar 17   Cape Canaveral AFS             Florida      USA     LC-18A                1\n",
       "                         NOTS-EV-1 Pilot II | Pilot-6 (R3   StatusRetired  450.0  Failure          Fri Aug 29  Fri  Aug 29   Naval Air Station Point Mugu   California   USA     Douglas F4D Skyray    1\n",
       "                         NOTS-EV-1 Pilot II | Pilot-5 (R2)  StatusRetired  450.0  Failure          Tue Aug 26  Tue  Aug 26   Naval Air Station Point Mugu   California   USA     Douglas F4D Skyray    1\n",
       "                         NOTS-EV-1 Pilot II | Pilot-4 (R1)  StatusRetired  450.0  Failure          Mon Aug 25  Mon  Aug 25   Naval Air Station Point Mugu   California   USA     Douglas F4D Skyray    1\n",
       "                         NOTS-EV-1 Pilot II | Pilot-3 (D3)  StatusRetired  450.0  Failure          Fri Aug 22  Fri  Aug 22   Naval Air Station Point Mugu   California   USA     Douglas F4D Skyray    1\n",
       "                         NOTS-EV-1 Pilot II | Pilot-1 (D1)  StatusRetired  450.0  Failure          Fri Jul 25  Fri  Jul 25   Naval Air Station Point Mugu   California   USA     Douglas F4D Skyray    1\n",
       "       US Air Force      Thor-DM 18 Able I | Pioneer 0      StatusRetired  450.0  Failure          Sun Aug 17  Sun  Aug 17   Cape Canaveral AFS             Florida      USA     SLC-17A               1\n",
       "                         SM-65B Atlas | SCORE               StatusRetired  450.0  Success          Thu Dec 18  Thu  Dec 18   Cape Canaveral AFS             Florida      USA     LC-11                 1\n",
       "       NASA              Thor-DM 18 Able I | Pioneer 2      StatusRetired  450.0  Failure          Sat Nov 08  Sat  Nov 08   Cape Canaveral AFS             Florida      USA     SLC-17A               1\n",
       "                         Thor-DM 18 Able I | Pioneer 1      StatusRetired  450.0  Partial Failure  Sat Oct 11  Sat  Oct 11   Cape Canaveral AFS             Florida      USA     SLC-17A               1\n",
       "       AMBA              Juno II | Pioneer 3                StatusRetired  450.0  Partial Failure  Sat Dec 06  Sat  Dec 06   Cape Canaveral AFS             Florida      USA     LC-5                  1\n",
       "                         Juno I | Explorer 5                StatusRetired  450.0  Failure          Sun Aug 24  Sun  Aug 24   Cape Canaveral AFS             Florida      USA     LC-5                  1\n",
       "                         Juno I | Explorer 4                StatusRetired  450.0  Success          Sat Jul 26  Sat  Jul 26   Cape Canaveral AFS             Florida      USA     LC-5                  1\n",
       "                         Juno I | Explorer 3                StatusRetired  450.0  Success          Wed Mar 26  Wed  Mar 26   Cape Canaveral AFS             Florida      USA     LC-5                  1\n",
       "                         Juno I | Explorer 2                StatusRetired  450.0  Failure          Wed Mar 05  Wed  Mar 05   Cape Canaveral AFS             Florida      USA     LC-26A                1\n",
       "                         Juno I | Explorer 1                StatusRetired  450.0  Success          Sat Feb 01  Sat  Feb 01   Cape Canaveral AFS             Florida      USA     LC-26A                1\n",
       " 1959  General Dynamics  Atlas-D Able | Pioneer P-3         StatusRetired  450.0  Failure          Thu Nov 26  Thu  Nov 26   Cape Canaveral AFS             Florida      USA     LC-14                 1\n",
       "       NASA              Atlas-D Mercury | Big Joe 1        StatusRetired  450.0  Partial Failure  Wed Sep 09  Wed  Sep 09   Cape Canaveral AFS             Florida      USA     LC-14                 1\n",
       "       US Air Force      Thor DM-18 Able-II | Transit 1A    StatusRetired  450.0  Failure          Thu Sep 17  Thu  Sep 17   Cape Canaveral AFS             Florida      USA     SLC-17A               1\n",
       "                         Thor DM-18 Able-III | Explorer 6   StatusRetired  450.0  Success          Fri Aug 07  Fri  Aug 07   Cape Canaveral AFS             Florida      USA     SLC-17A               1\n",
       "       US Navy           Vanguard | Vanguard SLV-6          StatusRetired  450.0  Failure          Mon Jun 22  Mon  Jun 22   Cape Canaveral AFS             Florida      USA     LC-18A                1\n",
       "                         Vanguard | Vanguard SLV-5          StatusRetired  450.0  Failure          Tue Apr 14  Tue  Apr 14   Cape Canaveral AFS             Florida      USA     LC-18A                1\n",
       "Name: count, dtype: int64"
      ]
     },
     "execution_count": 36,
     "metadata": {},
     "output_type": "execute_result"
    }
   ],
   "source": [
    "space.groupby('year').value_counts().head(30)"
   ]
  },
  {
   "cell_type": "code",
   "execution_count": 40,
   "id": "7749d584",
   "metadata": {},
   "outputs": [
    {
     "data": {
      "text/plain": [
       "array([' 2020', ' 2019', ' 2018', ' 2017', ' 2016', ' 2015', ' 2014',\n",
       "       ' 2013', ' 2012', ' 2011', ' 2010', ' 2009', ' 2008', ' 2007',\n",
       "       ' 2006', ' 2005', ' 2004', ' 2003', ' 2002', ' 2001', ' 2000',\n",
       "       ' 1999', ' 1998', ' 1997', ' 1996', ' 1995', ' 1994', ' 1993',\n",
       "       ' 1992', ' 1991', ' 1990', ' 1989', ' 1988', ' 1987', ' 1986',\n",
       "       ' 1985', ' 1984', ' 1983', ' 1982', ' 1981', ' 1980', ' 1979',\n",
       "       ' 1978', ' 1977', ' 1976', ' 1975', ' 1974', ' 1973', ' 1972',\n",
       "       ' 1971', ' 1970', ' 1969', ' 1968', ' 1967', ' 1966', ' 1965',\n",
       "       ' 1964', ' 1963', ' 1962', ' 1961', ' 1960', ' 1959', ' 1958',\n",
       "       ' 1957'], dtype=object)"
      ]
     },
     "execution_count": 40,
     "metadata": {},
     "output_type": "execute_result"
    }
   ],
   "source": [
    "space.year.unique()"
   ]
  },
  {
   "cell_type": "markdown",
   "id": "7e38b72b",
   "metadata": {},
   "source": [
    "### changing flloat to int of year column"
   ]
  },
  {
   "cell_type": "code",
   "execution_count": 41,
   "id": "7e136ce3",
   "metadata": {},
   "outputs": [],
   "source": [
    "space.year = space.year.astype('int')"
   ]
  },
  {
   "cell_type": "code",
   "execution_count": 42,
   "id": "03063edd",
   "metadata": {},
   "outputs": [
    {
     "data": {
      "text/plain": [
       "dtype('int32')"
      ]
     },
     "execution_count": 42,
     "metadata": {},
     "output_type": "execute_result"
    }
   ],
   "source": [
    "space.year.dtype"
   ]
  },
  {
   "cell_type": "markdown",
   "id": "9a7ccb80",
   "metadata": {},
   "source": [
    "## What is the organisation across the dataset? Are there any particular years or time periods with a high concentration of launches?"
   ]
  },
  {
   "cell_type": "code",
   "execution_count": 61,
   "id": "9c98ac2c",
   "metadata": {},
   "outputs": [],
   "source": [
    "def max_count(yr):\n",
    "    max_org = space[space.year == yr]['Organisation'].max()\n",
    "    print(\"In the year:\",yr,\"The Organisation named:\",max_org,\"Launched most of the missions\")"
   ]
  },
  {
   "cell_type": "code",
   "execution_count": 62,
   "id": "22a6a8ef",
   "metadata": {},
   "outputs": [
    {
     "name": "stdout",
     "output_type": "stream",
     "text": [
      "In the year: 1988 The Organisation named: RVSN USSR Launched most of the missions\n"
     ]
    }
   ],
   "source": [
    "max_count(1988)"
   ]
  },
  {
   "cell_type": "markdown",
   "id": "9d943f07",
   "metadata": {},
   "source": [
    "## 1.What are the most common organizations involved in space missions,and how many missions has each organization conducted?\n",
    "​"
   ]
  },
  {
   "cell_type": "code",
   "execution_count": 63,
   "id": "44a63290",
   "metadata": {
    "scrolled": true
   },
   "outputs": [
    {
     "data": {
      "text/plain": [
       "Organisation\n",
       "RVSN USSR           1777\n",
       "Arianespace          279\n",
       "CASC                 251\n",
       "General Dynamics     251\n",
       "NASA                 203\n",
       "VKS RF               201\n",
       "US Air Force         161\n",
       "ULA                  140\n",
       "Boeing               136\n",
       "Martin Marietta      114\n",
       "SpaceX               100\n",
       "MHI                   84\n",
       "Northrop              83\n",
       "Lockheed              79\n",
       "ISRO                  76\n",
       "Roscosmos             55\n",
       "ILS                   46\n",
       "Sea Launch            36\n",
       "ISAS                  30\n",
       "Kosmotras             22\n",
       "US Navy               17\n",
       "ISA                   13\n",
       "Rocket Lab            13\n",
       "Eurockot              13\n",
       "ESA                   13\n",
       "Blue Origin           12\n",
       "IAI                   11\n",
       "ExPace                10\n",
       "ASI                    9\n",
       "CNES                   8\n",
       "AMBA                   8\n",
       "MITT                   7\n",
       "JAXA                   7\n",
       "Land Launch            7\n",
       "UT                     5\n",
       "KCST                   5\n",
       "CASIC                  5\n",
       "Exos                   4\n",
       "CECLES                 4\n",
       "Arm??e de l'Air        4\n",
       "KARI                   3\n",
       "SRC                    3\n",
       "AEB                    3\n",
       "RAE                    2\n",
       "OKB-586                2\n",
       "Yuzhmash               2\n",
       "Landspace              1\n",
       "Douglas                1\n",
       "EER                    1\n",
       "Starsem                1\n",
       "Virgin Orbit           1\n",
       "IRGC                   1\n",
       "i-Space                1\n",
       "OneSpace               1\n",
       "Sandia                 1\n",
       "Khrunichev             1\n",
       "Name: count, dtype: int64"
      ]
     },
     "execution_count": 63,
     "metadata": {},
     "output_type": "execute_result"
    }
   ],
   "source": [
    "space.Organisation.value_counts()"
   ]
  },
  {
   "cell_type": "markdown",
   "id": "422ef101",
   "metadata": {},
   "source": [
    "## .Can you identify any significant locations or regions where space missions are frequently launched? "
   ]
  },
  {
   "cell_type": "code",
   "execution_count": 64,
   "id": "a9af7006",
   "metadata": {},
   "outputs": [
    {
     "data": {
      "text/plain": [
       "location\n",
       " Russia                            1390\n",
       " Florida                            834\n",
       " Kazakhstan                         701\n",
       " California                         454\n",
       " French Guiana                      299\n",
       " China                              259\n",
       " Japan                              119\n",
       " India                               76\n",
       " Pacific Ocean                       36\n",
       " Virginia                            31\n",
       " Texas                               13\n",
       " New Zealand                         13\n",
       " Iran                                13\n",
       " Israel                              11\n",
       " Marshall Islands                     9\n",
       " Kenya                                9\n",
       " Australia                            6\n",
       " North Korea                          5\n",
       " New Mexico                           4\n",
       " Algeria                              4\n",
       " Alaska                               3\n",
       " Barents Sea                          3\n",
       " Maranh?œo                            3\n",
       " South Korea                          3\n",
       " Gran Canaria                         2\n",
       " Pacific Missile Range Facility       1\n",
       "Name: count, dtype: int64"
      ]
     },
     "execution_count": 64,
     "metadata": {},
     "output_type": "execute_result"
    }
   ],
   "source": [
    "space.location.value_counts()"
   ]
  },
  {
   "cell_type": "code",
   "execution_count": 65,
   "id": "c1da610a",
   "metadata": {},
   "outputs": [
    {
     "data": {
      "text/html": [
       "<div>\n",
       "<style scoped>\n",
       "    .dataframe tbody tr th:only-of-type {\n",
       "        vertical-align: middle;\n",
       "    }\n",
       "\n",
       "    .dataframe tbody tr th {\n",
       "        vertical-align: top;\n",
       "    }\n",
       "\n",
       "    .dataframe thead th {\n",
       "        text-align: right;\n",
       "    }\n",
       "</style>\n",
       "<table border=\"1\" class=\"dataframe\">\n",
       "  <thead>\n",
       "    <tr style=\"text-align: right;\">\n",
       "      <th></th>\n",
       "      <th>Organisation</th>\n",
       "      <th>Detail</th>\n",
       "      <th>Rocket_Status</th>\n",
       "      <th>Price</th>\n",
       "      <th>Mission_Status</th>\n",
       "      <th>month</th>\n",
       "      <th>year</th>\n",
       "      <th>day</th>\n",
       "      <th>Month</th>\n",
       "      <th>center</th>\n",
       "      <th>location</th>\n",
       "      <th>country</th>\n",
       "      <th>launch pad</th>\n",
       "    </tr>\n",
       "  </thead>\n",
       "  <tbody>\n",
       "    <tr>\n",
       "      <th>0</th>\n",
       "      <td>SpaceX</td>\n",
       "      <td>Falcon 9 Block 5 | Starlink V1 L9 &amp; BlackSky</td>\n",
       "      <td>StatusActive</td>\n",
       "      <td>50.0</td>\n",
       "      <td>Success</td>\n",
       "      <td>Fri Aug 07</td>\n",
       "      <td>2020</td>\n",
       "      <td>Fri</td>\n",
       "      <td>Aug 07</td>\n",
       "      <td>Kennedy Space Center</td>\n",
       "      <td>Florida</td>\n",
       "      <td>USA</td>\n",
       "      <td>LC-39A</td>\n",
       "    </tr>\n",
       "    <tr>\n",
       "      <th>1</th>\n",
       "      <td>CASC</td>\n",
       "      <td>Long March 2D | Gaofen-9 04 &amp; Q-SAT</td>\n",
       "      <td>StatusActive</td>\n",
       "      <td>29.75</td>\n",
       "      <td>Success</td>\n",
       "      <td>Thu Aug 06</td>\n",
       "      <td>2020</td>\n",
       "      <td>Thu</td>\n",
       "      <td>Aug 06</td>\n",
       "      <td>Jiuquan Satellite Launch Center</td>\n",
       "      <td>China</td>\n",
       "      <td>NaN</td>\n",
       "      <td>Site 9401 (SLS-2)</td>\n",
       "    </tr>\n",
       "    <tr>\n",
       "      <th>2</th>\n",
       "      <td>SpaceX</td>\n",
       "      <td>Starship Prototype | 150 Meter Hop</td>\n",
       "      <td>StatusActive</td>\n",
       "      <td>450.0</td>\n",
       "      <td>Success</td>\n",
       "      <td>Tue Aug 04</td>\n",
       "      <td>2020</td>\n",
       "      <td>Tue</td>\n",
       "      <td>Aug 04</td>\n",
       "      <td>Boca Chica</td>\n",
       "      <td>Texas</td>\n",
       "      <td>USA</td>\n",
       "      <td>Pad A</td>\n",
       "    </tr>\n",
       "    <tr>\n",
       "      <th>3</th>\n",
       "      <td>Roscosmos</td>\n",
       "      <td>Proton-M/Briz-M | Ekspress-80 &amp; Ekspress-103</td>\n",
       "      <td>StatusActive</td>\n",
       "      <td>65.0</td>\n",
       "      <td>Success</td>\n",
       "      <td>Thu Jul 30</td>\n",
       "      <td>2020</td>\n",
       "      <td>Thu</td>\n",
       "      <td>Jul 30</td>\n",
       "      <td>Baikonur Cosmodrome</td>\n",
       "      <td>Kazakhstan</td>\n",
       "      <td>NaN</td>\n",
       "      <td>Site 200/39</td>\n",
       "    </tr>\n",
       "    <tr>\n",
       "      <th>4</th>\n",
       "      <td>ULA</td>\n",
       "      <td>Atlas V 541 | Perseverance</td>\n",
       "      <td>StatusActive</td>\n",
       "      <td>145.0</td>\n",
       "      <td>Success</td>\n",
       "      <td>Thu Jul 30</td>\n",
       "      <td>2020</td>\n",
       "      <td>Thu</td>\n",
       "      <td>Jul 30</td>\n",
       "      <td>Cape Canaveral AFS</td>\n",
       "      <td>Florida</td>\n",
       "      <td>USA</td>\n",
       "      <td>SLC-41</td>\n",
       "    </tr>\n",
       "  </tbody>\n",
       "</table>\n",
       "</div>"
      ],
      "text/plain": [
       "  Organisation                                        Detail Rocket_Status  \\\n",
       "0       SpaceX  Falcon 9 Block 5 | Starlink V1 L9 & BlackSky  StatusActive   \n",
       "1         CASC           Long March 2D | Gaofen-9 04 & Q-SAT  StatusActive   \n",
       "2       SpaceX            Starship Prototype | 150 Meter Hop  StatusActive   \n",
       "3    Roscosmos  Proton-M/Briz-M | Ekspress-80 & Ekspress-103  StatusActive   \n",
       "4          ULA                    Atlas V 541 | Perseverance  StatusActive   \n",
       "\n",
       "   Price Mission_Status       month  year  day   Month  \\\n",
       "0   50.0        Success  Fri Aug 07  2020  Fri  Aug 07   \n",
       "1  29.75        Success  Thu Aug 06  2020  Thu  Aug 06   \n",
       "2  450.0        Success  Tue Aug 04  2020  Tue  Aug 04   \n",
       "3   65.0        Success  Thu Jul 30  2020  Thu  Jul 30   \n",
       "4  145.0        Success  Thu Jul 30  2020  Thu  Jul 30   \n",
       "\n",
       "                             center     location country         launch pad  \n",
       "0              Kennedy Space Center      Florida     USA             LC-39A  \n",
       "1   Jiuquan Satellite Launch Center        China     NaN  Site 9401 (SLS-2)  \n",
       "2                        Boca Chica        Texas     USA              Pad A  \n",
       "3               Baikonur Cosmodrome   Kazakhstan     NaN        Site 200/39  \n",
       "4                Cape Canaveral AFS      Florida     USA             SLC-41  "
      ]
     },
     "execution_count": 65,
     "metadata": {},
     "output_type": "execute_result"
    }
   ],
   "source": [
    "space.head()"
   ]
  },
  {
   "cell_type": "markdown",
   "id": "532f479c",
   "metadata": {},
   "source": [
    "## How do the mission success rates vary by the organization responsible for the launch? Are there organizations with notably high or low success rates?"
   ]
  },
  {
   "cell_type": "code",
   "execution_count": 66,
   "id": "edd394bd",
   "metadata": {},
   "outputs": [
    {
     "data": {
      "text/plain": [
       "Organisation  Mission_Status   \n",
       "AEB           Failure              2\n",
       "              Prelaunch Failure    1\n",
       "AMBA          Success              4\n",
       "              Failure              3\n",
       "              Partial Failure      1\n",
       "                                  ..\n",
       "VKS RF        Failure              7\n",
       "              Partial Failure      6\n",
       "Virgin Orbit  Failure              1\n",
       "Yuzhmash      Success              2\n",
       "i-Space       Success              1\n",
       "Name: count, Length: 119, dtype: int64"
      ]
     },
     "execution_count": 66,
     "metadata": {},
     "output_type": "execute_result"
    }
   ],
   "source": [
    "space.groupby('Organisation')['Mission_Status'].value_counts()"
   ]
  },
  {
   "cell_type": "markdown",
   "id": "1af3d52a",
   "metadata": {},
   "source": [
    "## what are mission success rates based on launch locations? Do certain regions have higher success rates than others?"
   ]
  },
  {
   "cell_type": "code",
   "execution_count": 67,
   "id": "1bba65b2",
   "metadata": {},
   "outputs": [
    {
     "data": {
      "text/plain": [
       "location                         Mission_Status   \n",
       " Alaska                          Success                 3\n",
       " Algeria                         Success                 3\n",
       "                                 Partial Failure         1\n",
       " Australia                       Failure                 3\n",
       "                                 Success                 3\n",
       " Barents Sea                     Success                 2\n",
       "                                 Failure                 1\n",
       " California                      Success               389\n",
       "                                 Failure                56\n",
       "                                 Partial Failure         9\n",
       " China                           Success               236\n",
       "                                 Failure                17\n",
       "                                 Partial Failure         6\n",
       " Florida                         Success               750\n",
       "                                 Failure                63\n",
       "                                 Partial Failure        20\n",
       "                                 Prelaunch Failure       1\n",
       " French Guiana                   Success               282\n",
       "                                 Failure                13\n",
       "                                 Partial Failure         4\n",
       " Gran Canaria                    Success                 2\n",
       " India                           Success                63\n",
       "                                 Failure                 8\n",
       "                                 Partial Failure         5\n",
       " Iran                            Failure                 8\n",
       "                                 Success                 4\n",
       "                                 Prelaunch Failure       1\n",
       " Israel                          Success                 9\n",
       "                                 Failure                 2\n",
       " Japan                           Success               111\n",
       "                                 Failure                 5\n",
       "                                 Partial Failure         3\n",
       " Kazakhstan                      Success               608\n",
       "                                 Failure                72\n",
       "                                 Partial Failure        20\n",
       "                                 Prelaunch Failure       1\n",
       " Kenya                           Success                 9\n",
       " Maranh?œo                       Failure                 2\n",
       "                                 Prelaunch Failure       1\n",
       " Marshall Islands                Success                 6\n",
       "                                 Failure                 3\n",
       " New Mexico                      Partial Failure         3\n",
       "                                 Failure                 1\n",
       " New Zealand                     Success                11\n",
       "                                 Failure                 2\n",
       " North Korea                     Failure                 3\n",
       "                                 Success                 2\n",
       " Pacific Missile Range Facility  Failure                 1\n",
       " Pacific Ocean                   Success                33\n",
       "                                 Failure                 3\n",
       " Russia                          Success              1298\n",
       "                                 Failure                62\n",
       "                                 Partial Failure        30\n",
       " South Korea                     Failure                 2\n",
       "                                 Success                 1\n",
       " Texas                           Success                13\n",
       " Virginia                        Success                25\n",
       "                                 Failure                 5\n",
       "                                 Partial Failure         1\n",
       "Name: count, dtype: int64"
      ]
     },
     "execution_count": 67,
     "metadata": {},
     "output_type": "execute_result"
    }
   ],
   "source": [
    "space.groupby('location')['Mission_Status'].value_counts()"
   ]
  },
  {
   "cell_type": "code",
   "execution_count": 68,
   "id": "3ccd5d67",
   "metadata": {},
   "outputs": [
    {
     "data": {
      "text/plain": [
       "Organisation      object\n",
       "Detail            object\n",
       "Rocket_Status     object\n",
       "Price             object\n",
       "Mission_Status    object\n",
       "month             object\n",
       "year               int32\n",
       "day               object\n",
       "Month             object\n",
       "center            object\n",
       "location          object\n",
       "country           object\n",
       "launch pad        object\n",
       "dtype: object"
      ]
     },
     "execution_count": 68,
     "metadata": {},
     "output_type": "execute_result"
    }
   ],
   "source": [
    "space.dtypes"
   ]
  },
  {
   "cell_type": "markdown",
   "id": "2111a03d",
   "metadata": {},
   "source": [
    "## univariate analysis"
   ]
  },
  {
   "cell_type": "code",
   "execution_count": 69,
   "id": "c0c95bcf",
   "metadata": {},
   "outputs": [
    {
     "data": {
      "image/png": "[encoded data removed]",
      "text/plain": [
       "<Figure size 640x480 with 1 Axes>"
      ]
     },
     "metadata": {},
     "output_type": "display_data"
    }
   ],
   "source": [
    "sns.countplot(data=space,x='Rocket_Status')\n",
    "plt.show()"
   ]
  },
  {
   "cell_type": "code",
   "execution_count": 70,
   "id": "86791727",
   "metadata": {
    "scrolled": true
   },
   "outputs": [
    {
     "name": "stdout",
     "output_type": "stream",
     "text": [
      "Requirement already satisfied: pandas in c:\\users\\mannamgnaneshwar\\anaconda3\\lib\\site-packages (2.1.2)\n",
      "Collecting pandas\n",
      "  Downloading pandas-2.1.3-cp39-cp39-win_amd64.whl (10.8 MB)\n",
      "     --------------------------------------- 10.8/10.8 MB 19.1 kB/s eta 0:00:00\n",
      "Requirement already satisfied: numpy<2,>=1.22.4 in c:\\users\\mannamgnaneshwar\\anaconda3\\lib\\site-packages (from pandas) (1.26.1)\n",
      "Requirement already satisfied: python-dateutil>=2.8.2 in c:\\users\\mannamgnaneshwar\\anaconda3\\lib\\site-packages (from pandas) (2.8.2)\n",
      "Requirement already satisfied: tzdata>=2022.1 in c:\\users\\mannamgnaneshwar\\anaconda3\\lib\\site-packages (from pandas) (2023.3)\n",
      "Requirement already satisfied: pytz>=2020.1 in c:\\users\\mannamgnaneshwar\\anaconda3\\lib\\site-packages (from pandas) (2022.1)\n",
      "Requirement already satisfied: six>=1.5 in c:\\users\\mannamgnaneshwar\\anaconda3\\lib\\site-packages (from python-dateutil>=2.8.2->pandas) (1.16.0)\n",
      "Installing collected packages: pandas\n",
      "  Attempting uninstall: pandas\n",
      "    Found existing installation: pandas 2.1.2\n",
      "    Uninstalling pandas-2.1.2:\n",
      "      Successfully uninstalled pandas-2.1.2\n",
      "Note: you may need to restart the kernel to use updated packages.\n"
     ]
    },
    {
     "name": "stderr",
     "output_type": "stream",
     "text": [
      "ERROR: Could not install packages due to an OSError: [WinError 5] Access is denied: 'C:\\\\Users\\\\MANNAMGNANESHWAR\\\\anaconda3\\\\Lib\\\\site-packages\\\\~andas.libs\\\\msvcp140-fa0758dedafbbe194d3ee96e3dc2b9a3.dll'\n",
      "Consider using the `--user` option or check the permissions.\n",
      "\n"
     ]
    }
   ],
   "source": [
    "pip install --upgrade pandas"
   ]
  },
  {
   "cell_type": "markdown",
   "id": "df98391c",
   "metadata": {},
   "source": [
    "## hypothesis testing"
   ]
  },
  {
   "cell_type": "code",
   "execution_count": 71,
   "id": "b5525074",
   "metadata": {},
   "outputs": [
    {
     "name": "stdout",
     "output_type": "stream",
     "text": [
      "object\n",
      "T-statistic: 3.7662135835289257\n",
      "P-value: 0.0005212324918944674\n",
      "Reject the null hypothesis: There is a significant difference in prices between success and failure missions.\n"
     ]
    }
   ],
   "source": [
    "import pandas as pd\n",
    "from scipy import stats\n",
    "\n",
    "# Load the data\n",
    "data = pd.read_csv('mission_launches.csv')\n",
    "\n",
    "# Check the data types in the 'Price' column\n",
    "print(data['Price'].dtype)  # Check the data type of the 'Price' column\n",
    "\n",
    "# Convert 'Price' column to numeric (if it's not already) and handle NaN values\n",
    "data['Price'] = pd.to_numeric(data['Price'], errors='coerce')\n",
    "\n",
    "# Remove NaN values from the 'Price' column\n",
    "data = data.dropna(subset=['Price'])\n",
    "\n",
    "# Splitting the 'Price' data based on the 'Mission_Status' (for instance, 'Success' and 'Failure' missions)\n",
    "success_prices = data[data['Mission_Status'] == 'Success']['Price']\n",
    "failure_prices = data[data['Mission_Status'] == 'Failure']['Price']\n",
    "\n",
    "# Perform t-test assuming unequal variances (Student's t-test)\n",
    "t_stat, p_value = stats.ttest_ind(success_prices, failure_prices, equal_var=False)\n",
    "\n",
    "# Define the significance level\n",
    "alpha = 0.05\n",
    "\n",
    "# Print the results\n",
    "print(f\"T-statistic: {t_stat}\")\n",
    "print(\"P-value: \" + str(p_value))  # Convert p-value to string before concatenation\n",
    "\n",
    "if p_value < alpha:\n",
    "    print(\"Reject the null hypothesis: There is a significant difference in prices between success and failure missions.\")\n",
    "else:\n",
    "    print(\"Fail to reject the null hypothesis: There is no significant difference in prices between success and failure missions.\")\n"
   ]
  },
  {
   "cell_type": "code",
   "execution_count": null,
   "id": "8289f2ad",
   "metadata": {},
   "outputs": [],
   "source": []
  },
  {
   "cell_type": "code",
   "execution_count": 72,
   "id": "26b3643c",
   "metadata": {},
   "outputs": [
    {
     "data": {
      "text/plain": [
       "Organisation\n",
       "RVSN USSR           1777\n",
       "Arianespace          279\n",
       "CASC                 251\n",
       "General Dynamics     251\n",
       "NASA                 203\n",
       "VKS RF               201\n",
       "US Air Force         161\n",
       "ULA                  140\n",
       "Boeing               136\n",
       "Martin Marietta      114\n",
       "SpaceX               100\n",
       "Name: count, dtype: int64"
      ]
     },
     "execution_count": 72,
     "metadata": {},
     "output_type": "execute_result"
    }
   ],
   "source": [
    "space[\"Organisation\"].value_counts().head(11)"
   ]
  },
  {
   "cell_type": "code",
   "execution_count": null,
   "id": "4fa56250",
   "metadata": {},
   "outputs": [],
   "source": []
  },
  {
   "cell_type": "code",
   "execution_count": 73,
   "id": "43a2f123",
   "metadata": {},
   "outputs": [
    {
     "data": {
      "image/png": "[encoded data removed]",
      "text/plain": [
       "<Figure size 1000x600 with 1 Axes>"
      ]
     },
     "metadata": {},
     "output_type": "display_data"
    }
   ],
   "source": [
    "top_organisations = space[\"Organisation\"].value_counts().head(11)\n",
    "\n",
    "plt.figure(figsize=(10, 6))  # Set the figure size\n",
    "\n",
    "# Create a bar plot with Seaborn\n",
    "sns.barplot(x=top_organisations.index, y=top_organisations.values, palette='viridis')\n",
    "plt.title('Top 11 Organisations in Space Missions')  # Set the title of the plot\n",
    "plt.xlabel('Organisations')  # Label for the x-axis\n",
    "plt.ylabel('Counts')  # Label for the y-axis\n",
    "plt.xticks(rotation=45)  # Rotate x-axis labels for better readability\n",
    "\n",
    "# Show the plot\n",
    "plt.tight_layout()  # Adjust layout to prevent cutting off labels\n",
    "plt.show()"
   ]
  },
  {
   "cell_type": "code",
   "execution_count": 74,
   "id": "10f2910a",
   "metadata": {},
   "outputs": [
    {
     "data": {
      "image/png": "[encoded data removed]",
      "text/plain": [
       "<Figure size 1000x600 with 1 Axes>"
      ]
     },
     "metadata": {},
     "output_type": "display_data"
    }
   ],
   "source": [
    "top_locations = data[\"Location\"].value_counts().head(10)\n",
    "\n",
    "plt.figure(figsize=(10, 6))  # Set the figure size\n",
    "\n",
    "# Create a bar plot with Seaborn for top 10 locations\n",
    "sns.barplot(x=top_locations.index, y=top_locations.values, palette='muted')\n",
    "plt.title('Top 10 Locations in the Dataset')  # Set the title of the plot\n",
    "plt.xlabel('Locations')  # Label for the x-axis\n",
    "plt.ylabel('Counts')  # Label for the y-axis\n",
    "plt.xticks(rotation=45)  # Rotate x-axis labels for better readability\n",
    "\n",
    "# Show the plot\n",
    "plt.tight_layout()  # Adjust layout to prevent cutting off labels\n",
    "plt.show()"
   ]
  },
  {
   "cell_type": "code",
   "execution_count": 75,
   "id": "9402177b",
   "metadata": {},
   "outputs": [
    {
     "data": {
      "image/png": "[encoded data removed]",
      "text/plain": [
       "<Figure size 1000x600 with 1 Axes>"
      ]
     },
     "metadata": {},
     "output_type": "display_data"
    }
   ],
   "source": [
    "top_locations_rvsn_ussr = space[space[\"Organisation\"] == \"RVSN USSR\"][\"location\"].value_counts().head(10)\n",
    "\n",
    "plt.figure(figsize=(10, 6))  # Set the figure size\n",
    "\n",
    "# Create a bar plot with Seaborn for top 10 locations of RVSN USSR within the 'space' DataFrame\n",
    "sns.barplot(x=top_locations_rvsn_ussr.index, y=top_locations_rvsn_ussr.values, palette='bright')\n",
    "plt.title('Top 10 Locations for RVSN USSR Missions in Space')  # Set the title of the plot\n",
    "plt.xlabel('Locations')  # Label for the x-axis\n",
    "plt.ylabel('Counts')  # Label for the y-axis\n",
    "plt.xticks(rotation=45)  # Rotate x-axis labels for better readability\n",
    "\n",
    "# Show the plot\n",
    "plt.tight_layout()  # Adjust layout to prevent cutting off labels\n",
    "plt.show()\n"
   ]
  },
  {
   "cell_type": "code",
   "execution_count": 76,
   "id": "e9b4b0d1",
   "metadata": {},
   "outputs": [
    {
     "data": {
      "image/png": "[encoded data removed]",
      "text/plain": [
       "<Figure size 1000x600 with 1 Axes>"
      ]
     },
     "metadata": {},
     "output_type": "display_data"
    }
   ],
   "source": [
    "top_locations_rvsn_ussr = space[space[\"Organisation\"] == \"RVSN USSR\"][\"center\"].value_counts().head(10)\n",
    "\n",
    "plt.figure(figsize=(10, 6))  # Set the figure size\n",
    "\n",
    "# Create a bar plot with Seaborn for top 10 locations of RVSN USSR within the 'space' DataFrame\n",
    "sns.barplot(x=top_locations_rvsn_ussr.index, y=top_locations_rvsn_ussr.values, palette='bright')\n",
    "plt.title('Top 10 Locations for RVSN USSR Missions in Space')  # Set the title of the plot\n",
    "plt.xlabel('Locations')  # Label for the x-axis\n",
    "plt.ylabel('Counts')  # Label for the y-axis\n",
    "plt.xticks(rotation=45)  # Rotate x-axis labels for better readability\n",
    "\n",
    "# Show the plot\n",
    "plt.tight_layout()  # Adjust layout to prevent cutting off labels\n",
    "plt.show()\n"
   ]
  },
  {
   "cell_type": "code",
   "execution_count": 77,
   "id": "c4980163",
   "metadata": {},
   "outputs": [
    {
     "data": {
      "image/png": "[encoded data removed]",
      "text/plain": [
       "<Figure size 800x500 with 1 Axes>"
      ]
     },
     "metadata": {},
     "output_type": "display_data"
    }
   ],
   "source": [
    "rvsn_ussr_by_year = space[space[\"Organisation\"] == \"RVSN USSR\"][\"year\"].value_counts().sort_index()\n",
    "\n",
    "plt.figure(figsize=(8, 5))  # Set the figure size\n",
    "\n",
    "# Create a scatter plot with Seaborn for RVSN USSR missions by year\n",
    "sns.scatterplot(x=rvsn_ussr_by_year.index, y=rvsn_ussr_by_year.values, palette='solar')\n",
    "plt.title('RVSN USSR Missions by Year')  # Set the title of the plot\n",
    "plt.xlabel('Year')  # Label for the x-axis\n",
    "plt.ylabel('Number of Missions')  # Label for the y-axis\n",
    "\n",
    "# Show the plot\n",
    "plt.tight_layout()  # Adjust layout to prevent cutting off labels\n",
    "plt.show()\n",
    "\n",
    "\n",
    "\n",
    "\n"
   ]
  },
  {
   "cell_type": "markdown",
   "id": "8db82941",
   "metadata": {},
   "source": [
    "## bivarite analysis"
   ]
  },
  {
   "cell_type": "code",
   "execution_count": 78,
   "id": "0a7dd8d6",
   "metadata": {},
   "outputs": [
    {
     "data": {
      "image/png": "[encoded data removed]",
      "text/plain": [
       "<Figure size 1000x600 with 1 Axes>"
      ]
     },
     "metadata": {},
     "output_type": "display_data"
    }
   ],
   "source": [
    "companies_after_2000 = space[space[\"year\"] >= 2000][\"Organisation\"].value_counts()\n",
    "\n",
    "# Select the top 10 companies for the plot (optional)\n",
    "top_companies = companies_after_2000.head(10)\n",
    "\n",
    "plt.figure(figsize=(10, 6))  # Set the figure size\n",
    "\n",
    "# Create a bar plot with Seaborn for counts of companies after 2000\n",
    "sns.barplot(x=top_companies.index, y=top_companies.values, palette='muted')\n",
    "plt.title('Companies with Missions after 2000')  # Set the title of the plot\n",
    "plt.xlabel('Company Name')  # Label for the x-axis\n",
    "plt.ylabel('Number of Missions')  # Label for the y-axis\n",
    "plt.xticks(rotation=45)  # Rotate x-axis labels for better readability\n",
    "\n",
    "# Show the plot\n",
    "plt.tight_layout()  # Adjust layout to prevent cutting off labels\n",
    "plt.show()"
   ]
  },
  {
   "cell_type": "code",
   "execution_count": null,
   "id": "7ba2716d",
   "metadata": {},
   "outputs": [],
   "source": []
  },
  {
   "cell_type": "code",
   "execution_count": 79,
   "id": "83cec5e6",
   "metadata": {},
   "outputs": [
    {
     "data": {
      "image/png": "[encoded data removed]",
      "text/plain": [
       "<Figure size 1000x600 with 1 Axes>"
      ]
     },
     "metadata": {},
     "output_type": "display_data"
    }
   ],
   "source": [
    "rocket_status_count = space.groupby([\"location\", \"Rocket_Status\"]).size().groupby(\"location\").max()\n",
    "\n",
    "plt.figure(figsize=(10, 6))  # Set the figure size\n",
    "\n",
    "# Create a bar plot with Seaborn for rocket status by launch country\n",
    "sns.barplot(x=rocket_status_count.index, y=rocket_status_count.values, palette='muted')\n",
    "plt.title('Rocket Status by Launch Country')  # Set the title of the plot\n",
    "plt.xlabel('Launch Country')  # Label for the x-axis\n",
    "plt.ylabel('Rocket Status Count')  # Label for the y-axis\n",
    "plt.xticks(rotation=90)  # Rotate x-axis labels for better readability\n",
    "\n",
    "# Show the plot\n",
    "plt.tight_layout()  # Adjust layout to prevent cutting off labels\n",
    "plt.show()\n",
    "\n",
    "\n",
    "\n",
    "\n",
    "\n"
   ]
  },
  {
   "cell_type": "code",
   "execution_count": 80,
   "id": "b32d41cf",
   "metadata": {},
   "outputs": [
    {
     "data": {
      "text/html": [
       "<div>\n",
       "<style scoped>\n",
       "    .dataframe tbody tr th:only-of-type {\n",
       "        vertical-align: middle;\n",
       "    }\n",
       "\n",
       "    .dataframe tbody tr th {\n",
       "        vertical-align: top;\n",
       "    }\n",
       "\n",
       "    .dataframe thead th {\n",
       "        text-align: right;\n",
       "    }\n",
       "</style>\n",
       "<table border=\"1\" class=\"dataframe\">\n",
       "  <thead>\n",
       "    <tr style=\"text-align: right;\">\n",
       "      <th></th>\n",
       "      <th>Organisation</th>\n",
       "      <th>Detail</th>\n",
       "      <th>Rocket_Status</th>\n",
       "      <th>Price</th>\n",
       "      <th>Mission_Status</th>\n",
       "      <th>month</th>\n",
       "      <th>year</th>\n",
       "      <th>day</th>\n",
       "      <th>Month</th>\n",
       "      <th>center</th>\n",
       "      <th>location</th>\n",
       "      <th>country</th>\n",
       "      <th>launch pad</th>\n",
       "    </tr>\n",
       "  </thead>\n",
       "  <tbody>\n",
       "    <tr>\n",
       "      <th>0</th>\n",
       "      <td>SpaceX</td>\n",
       "      <td>Falcon 9 Block 5 | Starlink V1 L9 &amp; BlackSky</td>\n",
       "      <td>StatusActive</td>\n",
       "      <td>50.0</td>\n",
       "      <td>Success</td>\n",
       "      <td>Fri Aug 07</td>\n",
       "      <td>2020</td>\n",
       "      <td>Fri</td>\n",
       "      <td>Aug 07</td>\n",
       "      <td>Kennedy Space Center</td>\n",
       "      <td>Florida</td>\n",
       "      <td>USA</td>\n",
       "      <td>LC-39A</td>\n",
       "    </tr>\n",
       "    <tr>\n",
       "      <th>1</th>\n",
       "      <td>CASC</td>\n",
       "      <td>Long March 2D | Gaofen-9 04 &amp; Q-SAT</td>\n",
       "      <td>StatusActive</td>\n",
       "      <td>29.75</td>\n",
       "      <td>Success</td>\n",
       "      <td>Thu Aug 06</td>\n",
       "      <td>2020</td>\n",
       "      <td>Thu</td>\n",
       "      <td>Aug 06</td>\n",
       "      <td>Jiuquan Satellite Launch Center</td>\n",
       "      <td>China</td>\n",
       "      <td>NaN</td>\n",
       "      <td>Site 9401 (SLS-2)</td>\n",
       "    </tr>\n",
       "    <tr>\n",
       "      <th>2</th>\n",
       "      <td>SpaceX</td>\n",
       "      <td>Starship Prototype | 150 Meter Hop</td>\n",
       "      <td>StatusActive</td>\n",
       "      <td>450.0</td>\n",
       "      <td>Success</td>\n",
       "      <td>Tue Aug 04</td>\n",
       "      <td>2020</td>\n",
       "      <td>Tue</td>\n",
       "      <td>Aug 04</td>\n",
       "      <td>Boca Chica</td>\n",
       "      <td>Texas</td>\n",
       "      <td>USA</td>\n",
       "      <td>Pad A</td>\n",
       "    </tr>\n",
       "    <tr>\n",
       "      <th>3</th>\n",
       "      <td>Roscosmos</td>\n",
       "      <td>Proton-M/Briz-M | Ekspress-80 &amp; Ekspress-103</td>\n",
       "      <td>StatusActive</td>\n",
       "      <td>65.0</td>\n",
       "      <td>Success</td>\n",
       "      <td>Thu Jul 30</td>\n",
       "      <td>2020</td>\n",
       "      <td>Thu</td>\n",
       "      <td>Jul 30</td>\n",
       "      <td>Baikonur Cosmodrome</td>\n",
       "      <td>Kazakhstan</td>\n",
       "      <td>NaN</td>\n",
       "      <td>Site 200/39</td>\n",
       "    </tr>\n",
       "    <tr>\n",
       "      <th>4</th>\n",
       "      <td>ULA</td>\n",
       "      <td>Atlas V 541 | Perseverance</td>\n",
       "      <td>StatusActive</td>\n",
       "      <td>145.0</td>\n",
       "      <td>Success</td>\n",
       "      <td>Thu Jul 30</td>\n",
       "      <td>2020</td>\n",
       "      <td>Thu</td>\n",
       "      <td>Jul 30</td>\n",
       "      <td>Cape Canaveral AFS</td>\n",
       "      <td>Florida</td>\n",
       "      <td>USA</td>\n",
       "      <td>SLC-41</td>\n",
       "    </tr>\n",
       "  </tbody>\n",
       "</table>\n",
       "</div>"
      ],
      "text/plain": [
       "  Organisation                                        Detail Rocket_Status  \\\n",
       "0       SpaceX  Falcon 9 Block 5 | Starlink V1 L9 & BlackSky  StatusActive   \n",
       "1         CASC           Long March 2D | Gaofen-9 04 & Q-SAT  StatusActive   \n",
       "2       SpaceX            Starship Prototype | 150 Meter Hop  StatusActive   \n",
       "3    Roscosmos  Proton-M/Briz-M | Ekspress-80 & Ekspress-103  StatusActive   \n",
       "4          ULA                    Atlas V 541 | Perseverance  StatusActive   \n",
       "\n",
       "   Price Mission_Status       month  year  day   Month  \\\n",
       "0   50.0        Success  Fri Aug 07  2020  Fri  Aug 07   \n",
       "1  29.75        Success  Thu Aug 06  2020  Thu  Aug 06   \n",
       "2  450.0        Success  Tue Aug 04  2020  Tue  Aug 04   \n",
       "3   65.0        Success  Thu Jul 30  2020  Thu  Jul 30   \n",
       "4  145.0        Success  Thu Jul 30  2020  Thu  Jul 30   \n",
       "\n",
       "                             center     location country         launch pad  \n",
       "0              Kennedy Space Center      Florida     USA             LC-39A  \n",
       "1   Jiuquan Satellite Launch Center        China     NaN  Site 9401 (SLS-2)  \n",
       "2                        Boca Chica        Texas     USA              Pad A  \n",
       "3               Baikonur Cosmodrome   Kazakhstan     NaN        Site 200/39  \n",
       "4                Cape Canaveral AFS      Florida     USA             SLC-41  "
      ]
     },
     "execution_count": 80,
     "metadata": {},
     "output_type": "execute_result"
    }
   ],
   "source": [
    "space.head()"
   ]
  },
  {
   "cell_type": "code",
   "execution_count": null,
   "id": "f110ebd5",
   "metadata": {},
   "outputs": [],
   "source": []
  },
  {
   "cell_type": "markdown",
   "id": "810476df",
   "metadata": {},
   "source": [
    "1.What are the most common organizations involved in space missions, and how many missions has each organization conducted?\n",
    "\n",
    "2.Can you identify any significant locations or regions where space missions are frequently launched?\n",
    "\n",
    "3.What is the distribution of launch dates across the dataset? Are there any particular years or time periods with a high concentration of launches?\n",
    "\n",
    "4.How do the mission success rates vary by the organization responsible for the launch? Are there organizations with notably high or low success rates?\n",
    "\n",
    "5.Are there any patterns in the mission success rates based on launch locations? Do certain regions have higher success rates than others?\n",
    "\n",
    "\n",
    "\n",
    "6.How does the distribution of mission statuses (success/failure) change over time? Are there any noticeable trends or changes in mission outcomes?\n",
    "\n",
    "\n",
    "\n"
   ]
  },
  {
   "cell_type": "markdown",
   "id": "6ff83ea1",
   "metadata": {},
   "source": [
    "What are the names and data types of the columns?\n",
    "\n",
    "What are the basic summary statistics?\n",
    "\n",
    "Are there any categorical variables and missing values ? If soprint it .\n",
    "\n",
    "Are there any outliers in the data? If so use box plots, histograms and visualize .\n",
    "\n",
    "Is the data balanced or imbalanced? Visualize .\n",
    "\n",
    "What is the target variable (if any) .\n",
    "\n",
    "What are the units of measurement for numerical columns? ( example : time , currency ,date, distance )\n",
    "\n",
    "Do you have domain clarification? Brief it .\n",
    "\n",
    "Are there any time-based trends or patterns?\n",
    "\n",
    "Are there any correlations between variables? Calculate correlations\n"
   ]
  },
  {
   "cell_type": "markdown",
   "id": "d95e7330",
   "metadata": {},
   "source": [
    "1. What are the names and data types of the columns?\n",
    "2. What are the basic summary statistics?\n",
    "3. Are there any categorical variables and missing values ? If soprint it .\n",
    "4. Are there any outliers in the data? If so use box plots, histograms\n",
    "and visualize . \n",
    "5. Is the data balanced or imbalanced? Visualize .\n",
    "6. What is the target variable (if any) .\n",
    "7. What are the units of measurement for numerical columns?\n",
    "( example : time , currency ,date, distance )\n",
    "8. Do you have domain clarification? Brief it .\n",
    "9. Are there any time-based trends or patterns?\n",
    "10. Are there any correlations between variables? Calculate correlations"
   ]
  },
  {
   "cell_type": "code",
   "execution_count": null,
   "id": "ad7d535a",
   "metadata": {},
   "outputs": [],
   "source": []
  }
 ],
 "metadata": {
  "kernelspec": {
   "display_name": "Python 3 (ipykernel)",
   "language": "python",
   "name": "python3"
  },
  "language_info": {
   "codemirror_mode": {
    "name": "ipython",
    "version": 3
   },
   "file_extension": ".py",
   "mimetype": "text/x-python",
   "name": "python",
   "nbconvert_exporter": "python",
   "pygments_lexer": "ipython3",
   "version": "3.9.13"
  }
 },
 "nbformat": 4,
 "nbformat_minor": 5
}
